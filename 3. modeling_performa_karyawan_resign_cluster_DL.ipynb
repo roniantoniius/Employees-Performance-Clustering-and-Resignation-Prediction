{
 "cells": [
  {
   "cell_type": "markdown",
   "id": "6843e881",
   "metadata": {},
   "source": [
    "# Employee Performance With Resign Prediction Using Deep Learning (3)"
   ]
  },
  {
   "cell_type": "code",
   "execution_count": 1,
   "id": "9c9de905",
   "metadata": {},
   "outputs": [],
   "source": [
    "import os\n",
    "import warnings\n",
    "warnings.filterwarnings('ignore')"
   ]
  },
  {
   "cell_type": "code",
   "execution_count": 2,
   "id": "065acde8",
   "metadata": {},
   "outputs": [],
   "source": [
    "# library dibawah sebenarnya udah ada di pyforest\n",
    "from sklearn.model_selection       import train_test_split\n",
    "from sklearn.feature_selection     import SelectKBest, f_classif\n",
    "from sklearn.preprocessing         import MinMaxScaler, StandardScaler\n",
    "from sklearn.preprocessing         import LabelEncoder, OrdinalEncoder, OneHotEncoder\n",
    "from sklearn.pipeline              import make_pipeline\n",
    "from sklearn.compose               import ColumnTransformer\n",
    "from sklearn.metrics               import (f1_score,\n",
    "                                           precision_score,\n",
    "                                           recall_score,\n",
    "                                           log_loss,\n",
    "                                           accuracy_score,\n",
    "                                           classification_report,\n",
    "                                           ConfusionMatrixDisplay,\n",
    "                                           confusion_matrix)\n",
    "\n",
    "\n",
    "from pyspark.sql                   import SparkSession\n",
    "from sklearn.ensemble              import StackingClassifier\n",
    "from sklearn.pipeline              import Pipeline\n",
    "from sklearn.preprocessing         import StandardScaler\n",
    "from sklearn_pandas                import DataFrameMapper\n",
    "from sklearn.ensemble              import AdaBoostClassifier\n",
    "from sklearn.tree                  import DecisionTreeClassifier\n",
    "from sklearn.linear_model          import LogisticRegression\n",
    "from matplotlib.colors             import ListedColormap\n",
    "from sklearn.linear_model          import SGDClassifier\n",
    "from sklearn.ensemble              import RandomForestClassifier\n",
    "from sklearn.linear_model          import SGDClassifier\n",
    "from sklearn.svm                   import SVC\n",
    "from sklearn.naive_bayes           import GaussianNB\n",
    "from sklearn.neighbors             import KNeighborsClassifier\n",
    "from sklearn.neighbors             import NeighborhoodComponentsAnalysis\n",
    "from keras.callbacks               import EarlyStopping"
   ]
  },
  {
   "cell_type": "code",
   "execution_count": 3,
   "id": "f9212281",
   "metadata": {},
   "outputs": [],
   "source": [
    "# env\n",
    "os.environ['HADOOP_HOME'] = r\"C:\\hadoop\"\n",
    "os.environ['HADOOP_CONF_DIR'] = r\"C:\\hadoop\\etc\\hadoop\"\n",
    "os.environ['JAVA_HOME'] = r\"C:\\Java\"  # path jdk\n",
    "\n",
    "# sesi spark\n",
    "spark = SparkSession.builder \\\n",
    "    .appName(\"Hadoop Clustering Performa Karyawan\") \\\n",
    "    .config(\"spark.hadoop.fs.defaultFS\", \"hdfs://localhost:9000\") \\\n",
    "    .config(\"spark.yarn.stagingDir\", \"/user/ASUS/.sparkStaging\") \\\n",
    "    .getOrCreate()"
   ]
  },
  {
   "cell_type": "code",
   "execution_count": 4,
   "id": "a6cfcc07",
   "metadata": {},
   "outputs": [
    {
     "data": {
      "application/javascript": [
       "\n",
       "        if (window._pyforest_update_imports_cell) { window._pyforest_update_imports_cell('import pandas as pd'); }\n",
       "    "
      ],
      "text/plain": [
       "<IPython.core.display.Javascript object>"
      ]
     },
     "metadata": {},
     "output_type": "display_data"
    }
   ],
   "source": [
    "# data hdfs\n",
    "hdfs_path = \"/user/ASUS/hadoop_clustering_employee_turnover/cluster.csv\"\n",
    "data_hadoop = spark.read.csv(hdfs_path, header=True, inferSchema=True)"
   ]
  },
  {
   "cell_type": "code",
   "execution_count": 5,
   "id": "1723da30",
   "metadata": {},
   "outputs": [
    {
     "data": {
      "application/javascript": [
       "\n",
       "        if (window._pyforest_update_imports_cell) { window._pyforest_update_imports_cell('import pandas as pd'); }\n",
       "    "
      ],
      "text/plain": [
       "<IPython.core.display.Javascript object>"
      ]
     },
     "metadata": {},
     "output_type": "display_data"
    }
   ],
   "source": [
    "df = pd.DataFrame(data_hadoop)"
   ]
  },
  {
   "cell_type": "code",
   "execution_count": 6,
   "id": "bbc6b508",
   "metadata": {},
   "outputs": [
    {
     "name": "stdout",
     "output_type": "stream",
     "text": [
      "<class 'pandas.core.frame.DataFrame'>\n",
      "RangeIndex: 14999 entries, 0 to 14998\n",
      "Data columns (total 20 columns):\n",
      " #   Column                      Non-Null Count  Dtype  \n",
      "---  ------                      --------------  -----  \n",
      " 0   tingkat_kepuasan            14999 non-null  float64\n",
      " 1   evaluasi_terakhir           14999 non-null  float64\n",
      " 2   jumlah_proyek               14999 non-null  int64  \n",
      " 3   rata-rata_jam_bulan         14999 non-null  int64  \n",
      " 4   waktu_spent_for_perusahaan  14999 non-null  int64  \n",
      " 5   Kecelakaan_kerja            14999 non-null  int64  \n",
      " 6   resign                      14999 non-null  int64  \n",
      " 7   promosi_5tahun_terakhir     14999 non-null  int64  \n",
      " 8   gaji                        14999 non-null  int64  \n",
      " 9   IT                          14999 non-null  int64  \n",
      " 10  RandD                       14999 non-null  int64  \n",
      " 11  accounting                  14999 non-null  int64  \n",
      " 12  hr                          14999 non-null  int64  \n",
      " 13  management                  14999 non-null  int64  \n",
      " 14  marketing                   14999 non-null  int64  \n",
      " 15  product_mng                 14999 non-null  int64  \n",
      " 16  sales                       14999 non-null  int64  \n",
      " 17  support                     14999 non-null  int64  \n",
      " 18  technical                   14999 non-null  int64  \n",
      " 19  cluster                     14999 non-null  int64  \n",
      "dtypes: float64(2), int64(18)\n",
      "memory usage: 2.3 MB\n"
     ]
    }
   ],
   "source": [
    "df.info()"
   ]
  },
  {
   "cell_type": "code",
   "execution_count": 7,
   "id": "23ab47dc",
   "metadata": {},
   "outputs": [
    {
     "data": {
      "application/javascript": [
       "\n",
       "        if (window._pyforest_update_imports_cell) { window._pyforest_update_imports_cell('import pandas as pd'); }\n",
       "    "
      ],
      "text/plain": [
       "<IPython.core.display.Javascript object>"
      ]
     },
     "metadata": {},
     "output_type": "display_data"
    }
   ],
   "source": [
    "X = df.drop('resign', axis=1)\n",
    "y = pd.DataFrame(df['resign'])"
   ]
  },
  {
   "cell_type": "code",
   "execution_count": 8,
   "id": "ab633198",
   "metadata": {},
   "outputs": [],
   "source": [
    "hapus = ['accounting',\n",
    "        'product_mng',\n",
    "        'IT',\n",
    "        'support',\n",
    "        'sales',\n",
    "        'evaluasi_terakhir',\n",
    "        'marketing']"
   ]
  },
  {
   "cell_type": "code",
   "execution_count": 9,
   "id": "0bb2b497",
   "metadata": {},
   "outputs": [
    {
     "data": {
      "text/html": [
       "<div>\n",
       "<style scoped>\n",
       "    .dataframe tbody tr th:only-of-type {\n",
       "        vertical-align: middle;\n",
       "    }\n",
       "\n",
       "    .dataframe tbody tr th {\n",
       "        vertical-align: top;\n",
       "    }\n",
       "\n",
       "    .dataframe thead th {\n",
       "        text-align: right;\n",
       "    }\n",
       "</style>\n",
       "<table border=\"1\" class=\"dataframe\">\n",
       "  <thead>\n",
       "    <tr style=\"text-align: right;\">\n",
       "      <th></th>\n",
       "      <th>tingkat_kepuasan</th>\n",
       "      <th>jumlah_proyek</th>\n",
       "      <th>rata-rata_jam_bulan</th>\n",
       "      <th>waktu_spent_for_perusahaan</th>\n",
       "      <th>Kecelakaan_kerja</th>\n",
       "      <th>promosi_5tahun_terakhir</th>\n",
       "      <th>gaji</th>\n",
       "      <th>RandD</th>\n",
       "      <th>hr</th>\n",
       "      <th>management</th>\n",
       "      <th>technical</th>\n",
       "      <th>cluster</th>\n",
       "    </tr>\n",
       "  </thead>\n",
       "  <tbody>\n",
       "    <tr>\n",
       "      <th>0</th>\n",
       "      <td>0.38</td>\n",
       "      <td>2</td>\n",
       "      <td>157</td>\n",
       "      <td>3</td>\n",
       "      <td>0</td>\n",
       "      <td>0</td>\n",
       "      <td>0</td>\n",
       "      <td>0</td>\n",
       "      <td>0</td>\n",
       "      <td>0</td>\n",
       "      <td>0</td>\n",
       "      <td>2</td>\n",
       "    </tr>\n",
       "    <tr>\n",
       "      <th>1</th>\n",
       "      <td>0.80</td>\n",
       "      <td>5</td>\n",
       "      <td>262</td>\n",
       "      <td>6</td>\n",
       "      <td>0</td>\n",
       "      <td>0</td>\n",
       "      <td>1</td>\n",
       "      <td>0</td>\n",
       "      <td>0</td>\n",
       "      <td>0</td>\n",
       "      <td>0</td>\n",
       "      <td>3</td>\n",
       "    </tr>\n",
       "    <tr>\n",
       "      <th>2</th>\n",
       "      <td>0.11</td>\n",
       "      <td>7</td>\n",
       "      <td>272</td>\n",
       "      <td>4</td>\n",
       "      <td>0</td>\n",
       "      <td>0</td>\n",
       "      <td>1</td>\n",
       "      <td>0</td>\n",
       "      <td>0</td>\n",
       "      <td>0</td>\n",
       "      <td>0</td>\n",
       "      <td>3</td>\n",
       "    </tr>\n",
       "    <tr>\n",
       "      <th>3</th>\n",
       "      <td>0.72</td>\n",
       "      <td>5</td>\n",
       "      <td>223</td>\n",
       "      <td>5</td>\n",
       "      <td>0</td>\n",
       "      <td>0</td>\n",
       "      <td>0</td>\n",
       "      <td>0</td>\n",
       "      <td>0</td>\n",
       "      <td>0</td>\n",
       "      <td>0</td>\n",
       "      <td>0</td>\n",
       "    </tr>\n",
       "    <tr>\n",
       "      <th>4</th>\n",
       "      <td>0.37</td>\n",
       "      <td>2</td>\n",
       "      <td>159</td>\n",
       "      <td>3</td>\n",
       "      <td>0</td>\n",
       "      <td>0</td>\n",
       "      <td>0</td>\n",
       "      <td>0</td>\n",
       "      <td>0</td>\n",
       "      <td>0</td>\n",
       "      <td>0</td>\n",
       "      <td>2</td>\n",
       "    </tr>\n",
       "    <tr>\n",
       "      <th>...</th>\n",
       "      <td>...</td>\n",
       "      <td>...</td>\n",
       "      <td>...</td>\n",
       "      <td>...</td>\n",
       "      <td>...</td>\n",
       "      <td>...</td>\n",
       "      <td>...</td>\n",
       "      <td>...</td>\n",
       "      <td>...</td>\n",
       "      <td>...</td>\n",
       "      <td>...</td>\n",
       "      <td>...</td>\n",
       "    </tr>\n",
       "    <tr>\n",
       "      <th>14994</th>\n",
       "      <td>0.40</td>\n",
       "      <td>2</td>\n",
       "      <td>151</td>\n",
       "      <td>3</td>\n",
       "      <td>0</td>\n",
       "      <td>0</td>\n",
       "      <td>0</td>\n",
       "      <td>0</td>\n",
       "      <td>0</td>\n",
       "      <td>0</td>\n",
       "      <td>0</td>\n",
       "      <td>2</td>\n",
       "    </tr>\n",
       "    <tr>\n",
       "      <th>14995</th>\n",
       "      <td>0.37</td>\n",
       "      <td>2</td>\n",
       "      <td>160</td>\n",
       "      <td>3</td>\n",
       "      <td>0</td>\n",
       "      <td>0</td>\n",
       "      <td>0</td>\n",
       "      <td>0</td>\n",
       "      <td>0</td>\n",
       "      <td>0</td>\n",
       "      <td>0</td>\n",
       "      <td>2</td>\n",
       "    </tr>\n",
       "    <tr>\n",
       "      <th>14996</th>\n",
       "      <td>0.37</td>\n",
       "      <td>2</td>\n",
       "      <td>143</td>\n",
       "      <td>3</td>\n",
       "      <td>0</td>\n",
       "      <td>0</td>\n",
       "      <td>0</td>\n",
       "      <td>0</td>\n",
       "      <td>0</td>\n",
       "      <td>0</td>\n",
       "      <td>0</td>\n",
       "      <td>4</td>\n",
       "    </tr>\n",
       "    <tr>\n",
       "      <th>14997</th>\n",
       "      <td>0.11</td>\n",
       "      <td>6</td>\n",
       "      <td>280</td>\n",
       "      <td>4</td>\n",
       "      <td>0</td>\n",
       "      <td>0</td>\n",
       "      <td>0</td>\n",
       "      <td>0</td>\n",
       "      <td>0</td>\n",
       "      <td>0</td>\n",
       "      <td>0</td>\n",
       "      <td>3</td>\n",
       "    </tr>\n",
       "    <tr>\n",
       "      <th>14998</th>\n",
       "      <td>0.37</td>\n",
       "      <td>2</td>\n",
       "      <td>158</td>\n",
       "      <td>3</td>\n",
       "      <td>0</td>\n",
       "      <td>0</td>\n",
       "      <td>0</td>\n",
       "      <td>0</td>\n",
       "      <td>0</td>\n",
       "      <td>0</td>\n",
       "      <td>0</td>\n",
       "      <td>2</td>\n",
       "    </tr>\n",
       "  </tbody>\n",
       "</table>\n",
       "<p>14999 rows × 12 columns</p>\n",
       "</div>"
      ],
      "text/plain": [
       "       tingkat_kepuasan  jumlah_proyek  rata-rata_jam_bulan  ...  management  technical  cluster\n",
       "0                  0.38              2                  157  ...           0          0        2\n",
       "1                  0.80              5                  262  ...           0          0        3\n",
       "2                  0.11              7                  272  ...           0          0        3\n",
       "3                  0.72              5                  223  ...           0          0        0\n",
       "4                  0.37              2                  159  ...           0          0        2\n",
       "...                 ...            ...                  ...  ...         ...        ...      ...\n",
       "14994              0.40              2                  151  ...           0          0        2\n",
       "14995              0.37              2                  160  ...           0          0        2\n",
       "14996              0.37              2                  143  ...           0          0        4\n",
       "14997              0.11              6                  280  ...           0          0        3\n",
       "14998              0.37              2                  158  ...           0          0        2\n",
       "\n",
       "[14999 rows x 12 columns]"
      ]
     },
     "execution_count": 9,
     "metadata": {},
     "output_type": "execute_result"
    }
   ],
   "source": [
    "X = X.drop(hapus, axis=1).sort_index()\n",
    "X"
   ]
  },
  {
   "cell_type": "code",
   "execution_count": 10,
   "id": "b780bbc4",
   "metadata": {},
   "outputs": [
    {
     "data": {
      "text/html": [
       "<div>\n",
       "<style scoped>\n",
       "    .dataframe tbody tr th:only-of-type {\n",
       "        vertical-align: middle;\n",
       "    }\n",
       "\n",
       "    .dataframe tbody tr th {\n",
       "        vertical-align: top;\n",
       "    }\n",
       "\n",
       "    .dataframe thead th {\n",
       "        text-align: right;\n",
       "    }\n",
       "</style>\n",
       "<table border=\"1\" class=\"dataframe\">\n",
       "  <thead>\n",
       "    <tr style=\"text-align: right;\">\n",
       "      <th></th>\n",
       "      <th>resign</th>\n",
       "    </tr>\n",
       "  </thead>\n",
       "  <tbody>\n",
       "    <tr>\n",
       "      <th>0</th>\n",
       "      <td>1</td>\n",
       "    </tr>\n",
       "    <tr>\n",
       "      <th>1</th>\n",
       "      <td>1</td>\n",
       "    </tr>\n",
       "    <tr>\n",
       "      <th>2</th>\n",
       "      <td>1</td>\n",
       "    </tr>\n",
       "    <tr>\n",
       "      <th>3</th>\n",
       "      <td>1</td>\n",
       "    </tr>\n",
       "    <tr>\n",
       "      <th>4</th>\n",
       "      <td>1</td>\n",
       "    </tr>\n",
       "    <tr>\n",
       "      <th>...</th>\n",
       "      <td>...</td>\n",
       "    </tr>\n",
       "    <tr>\n",
       "      <th>14994</th>\n",
       "      <td>1</td>\n",
       "    </tr>\n",
       "    <tr>\n",
       "      <th>14995</th>\n",
       "      <td>1</td>\n",
       "    </tr>\n",
       "    <tr>\n",
       "      <th>14996</th>\n",
       "      <td>1</td>\n",
       "    </tr>\n",
       "    <tr>\n",
       "      <th>14997</th>\n",
       "      <td>1</td>\n",
       "    </tr>\n",
       "    <tr>\n",
       "      <th>14998</th>\n",
       "      <td>1</td>\n",
       "    </tr>\n",
       "  </tbody>\n",
       "</table>\n",
       "<p>14999 rows × 1 columns</p>\n",
       "</div>"
      ],
      "text/plain": [
       "       resign\n",
       "0           1\n",
       "1           1\n",
       "2           1\n",
       "3           1\n",
       "4           1\n",
       "...       ...\n",
       "14994       1\n",
       "14995       1\n",
       "14996       1\n",
       "14997       1\n",
       "14998       1\n",
       "\n",
       "[14999 rows x 1 columns]"
      ]
     },
     "execution_count": 10,
     "metadata": {},
     "output_type": "execute_result"
    }
   ],
   "source": [
    "y"
   ]
  },
  {
   "cell_type": "code",
   "execution_count": 11,
   "id": "cc951a59",
   "metadata": {},
   "outputs": [
    {
     "data": {
      "text/plain": [
       "resign    int64\n",
       "dtype: object"
      ]
     },
     "execution_count": 11,
     "metadata": {},
     "output_type": "execute_result"
    }
   ],
   "source": [
    "y.dtypes"
   ]
  },
  {
   "cell_type": "code",
   "execution_count": 12,
   "id": "55874204",
   "metadata": {},
   "outputs": [],
   "source": [
    "X_train, X_test, y_train, y_test = train_test_split(X,\n",
    "                                                    y,\n",
    "                                                    test_size=0.25,\n",
    "                                                    random_state=42)"
   ]
  },
  {
   "cell_type": "code",
   "execution_count": 13,
   "id": "8d741b2f",
   "metadata": {},
   "outputs": [
    {
     "data": {
      "text/plain": [
       "(11249, 12)"
      ]
     },
     "execution_count": 13,
     "metadata": {},
     "output_type": "execute_result"
    }
   ],
   "source": [
    "X_train.shape"
   ]
  },
  {
   "cell_type": "markdown",
   "id": "26a546c0",
   "metadata": {},
   "source": [
    "### Neural Network"
   ]
  },
  {
   "cell_type": "code",
   "execution_count": 14,
   "id": "655c4683",
   "metadata": {},
   "outputs": [],
   "source": [
    "# y_true itu y_test\n",
    "def model_report(y_true, y_pred):\n",
    "\n",
    "    acc                     = accuracy_score(y_true, y_pred)\n",
    "    pre                     = precision_score(y_true, y_pred)\n",
    "    rec                     = recall_score(y_true, y_pred)\n",
    "    f1                      = f1_score(y_true, y_pred)\n",
    "    loss                    = log_loss(y_true, y_pred)\n",
    "\n",
    "    print(\"accuracy:   {:3f}\\nprecision:  {:3f}\\nrecall:     {:3f}\\nf1-score:   {:3f}\\nloss:       {:3f}\".\n",
    "          format(acc, pre, rec, f1, loss))"
   ]
  },
  {
   "cell_type": "code",
   "execution_count": 15,
   "id": "6c3aedd3",
   "metadata": {},
   "outputs": [],
   "source": [
    "# Fungsi Evaluasi Suatu Model dengan Confusion Matrix\n",
    "def plot_confusion_matriks(y_true, y_pred):\n",
    "    cm    = confusion_matrix(y_true, y_pred)\n",
    "    tampil = ConfusionMatrixDisplay(confusion_matrix=cm)\n",
    "\n",
    "    tampil.plot(cmap='Greys')\n",
    "\n",
    "    plt.title('Confusion Matrix')\n",
    "    plt.show()"
   ]
  },
  {
   "cell_type": "code",
   "execution_count": 45,
   "id": "8ddd5ece",
   "metadata": {},
   "outputs": [],
   "source": [
    "def pred_report_nn(y_true, y_pred):\n",
    "\n",
    "    # Konversi prediksi yang kontinu menjadi nilai biner (0/1)\n",
    "    y_pred_bin = np.round(y_pred).astype(int)\n",
    "\n",
    "    # Hitung metrik evaluasi klasifikasi\n",
    "    acc_ann    = accuracy_score(y_true, y_pred_bin)\n",
    "    pre_ann    = precision_score(y_true, y_pred_bin)\n",
    "    rec_ann    = recall_score(y_true, y_pred_bin)\n",
    "    f1_ann     = f1_score(y_true, y_pred_bin)\n",
    "    loss_ann   = log_loss(y_true, y_pred)\n",
    "\n",
    "    print(\"Accuracy:  {:3f}\\nPrecision:  {:3f}\\nRecall:  {:3f}\\nF1 Score:  {:3f}\\nLoss:  {:3f}\".\n",
    "          format(acc_ann, pre_ann, rec_ann, f1_ann, loss_ann))"
   ]
  },
  {
   "cell_type": "code",
   "execution_count": 18,
   "id": "1abf2df2",
   "metadata": {},
   "outputs": [
    {
     "name": "stdout",
     "output_type": "stream",
     "text": [
      "(11249, 12)\n",
      "(3750, 12)\n"
     ]
    }
   ],
   "source": [
    "print(X_train.shape)\n",
    "print(X_test.shape)"
   ]
  },
  {
   "cell_type": "code",
   "execution_count": 19,
   "id": "9d198b34",
   "metadata": {},
   "outputs": [
    {
     "data": {
      "application/javascript": [
       "\n",
       "        if (window._pyforest_update_imports_cell) { window._pyforest_update_imports_cell('import pandas as pd\\nimport keras'); }\n",
       "    "
      ],
      "text/plain": [
       "<IPython.core.display.Javascript object>"
      ]
     },
     "metadata": {},
     "output_type": "display_data"
    }
   ],
   "source": [
    "early_stopping = keras.callbacks.EarlyStopping(monitor='val_loss',\n",
    "                                               patience=10)"
   ]
  },
  {
   "cell_type": "code",
   "execution_count": 20,
   "id": "08f2b079",
   "metadata": {},
   "outputs": [
    {
     "data": {
      "application/javascript": [
       "\n",
       "        if (window._pyforest_update_imports_cell) { window._pyforest_update_imports_cell('import pandas as pd\\nimport keras'); }\n",
       "    "
      ],
      "text/plain": [
       "<IPython.core.display.Javascript object>"
      ]
     },
     "metadata": {},
     "output_type": "display_data"
    },
    {
     "data": {
      "application/javascript": [
       "\n",
       "        if (window._pyforest_update_imports_cell) { window._pyforest_update_imports_cell('import pandas as pd\\nimport keras'); }\n",
       "    "
      ],
      "text/plain": [
       "<IPython.core.display.Javascript object>"
      ]
     },
     "metadata": {},
     "output_type": "display_data"
    },
    {
     "data": {
      "application/javascript": [
       "\n",
       "        if (window._pyforest_update_imports_cell) { window._pyforest_update_imports_cell('import pandas as pd\\nimport keras'); }\n",
       "    "
      ],
      "text/plain": [
       "<IPython.core.display.Javascript object>"
      ]
     },
     "metadata": {},
     "output_type": "display_data"
    },
    {
     "data": {
      "application/javascript": [
       "\n",
       "        if (window._pyforest_update_imports_cell) { window._pyforest_update_imports_cell('import pandas as pd\\nimport keras'); }\n",
       "    "
      ],
      "text/plain": [
       "<IPython.core.display.Javascript object>"
      ]
     },
     "metadata": {},
     "output_type": "display_data"
    },
    {
     "data": {
      "application/javascript": [
       "\n",
       "        if (window._pyforest_update_imports_cell) { window._pyforest_update_imports_cell('import pandas as pd\\nimport keras'); }\n",
       "    "
      ],
      "text/plain": [
       "<IPython.core.display.Javascript object>"
      ]
     },
     "metadata": {},
     "output_type": "display_data"
    },
    {
     "data": {
      "application/javascript": [
       "\n",
       "        if (window._pyforest_update_imports_cell) { window._pyforest_update_imports_cell('import pandas as pd\\nimport keras'); }\n",
       "    "
      ],
      "text/plain": [
       "<IPython.core.display.Javascript object>"
      ]
     },
     "metadata": {},
     "output_type": "display_data"
    },
    {
     "data": {
      "application/javascript": [
       "\n",
       "        if (window._pyforest_update_imports_cell) { window._pyforest_update_imports_cell('import pandas as pd\\nimport keras'); }\n",
       "    "
      ],
      "text/plain": [
       "<IPython.core.display.Javascript object>"
      ]
     },
     "metadata": {},
     "output_type": "display_data"
    },
    {
     "data": {
      "application/javascript": [
       "\n",
       "        if (window._pyforest_update_imports_cell) { window._pyforest_update_imports_cell('import pandas as pd\\nimport keras'); }\n",
       "    "
      ],
      "text/plain": [
       "<IPython.core.display.Javascript object>"
      ]
     },
     "metadata": {},
     "output_type": "display_data"
    },
    {
     "data": {
      "application/javascript": [
       "\n",
       "        if (window._pyforest_update_imports_cell) { window._pyforest_update_imports_cell('import pandas as pd\\nimport keras'); }\n",
       "    "
      ],
      "text/plain": [
       "<IPython.core.display.Javascript object>"
      ]
     },
     "metadata": {},
     "output_type": "display_data"
    },
    {
     "data": {
      "application/javascript": [
       "\n",
       "        if (window._pyforest_update_imports_cell) { window._pyforest_update_imports_cell('import pandas as pd\\nimport keras'); }\n",
       "    "
      ],
      "text/plain": [
       "<IPython.core.display.Javascript object>"
      ]
     },
     "metadata": {},
     "output_type": "display_data"
    },
    {
     "data": {
      "application/javascript": [
       "\n",
       "        if (window._pyforest_update_imports_cell) { window._pyforest_update_imports_cell('import pandas as pd\\nimport keras'); }\n",
       "    "
      ],
      "text/plain": [
       "<IPython.core.display.Javascript object>"
      ]
     },
     "metadata": {},
     "output_type": "display_data"
    },
    {
     "data": {
      "application/javascript": [
       "\n",
       "        if (window._pyforest_update_imports_cell) { window._pyforest_update_imports_cell('import pandas as pd\\nimport keras'); }\n",
       "    "
      ],
      "text/plain": [
       "<IPython.core.display.Javascript object>"
      ]
     },
     "metadata": {},
     "output_type": "display_data"
    }
   ],
   "source": [
    "ann_model = keras.Sequential()\n",
    "\n",
    "ann_model.add(keras.layers.Dense(units=24, input_shape=(12,)))\n",
    "ann_model.add(keras.layers.LeakyReLU(alpha=0.01))\n",
    "ann_model.add(keras.layers.Dropout(0.1)) #untuk antisipasi overfit\n",
    "\n",
    "ann_model.add(keras.layers.Dense(units=12))\n",
    "ann_model.add(keras.layers.LeakyReLU(alpha=0.01))\n",
    "ann_model.add(keras.layers.Dropout(0.2))\n",
    "\n",
    "ann_model.add(keras.layers.Dense(units=6))\n",
    "ann_model.add(keras.layers.LeakyReLU(alpha=0.01))\n",
    "ann_model.add(keras.layers.Dropout(0.15))\n",
    "\n",
    "ann_model.add(keras.layers.Dense(units=1, activation=\"sigmoid\")) #output\n",
    "\n",
    "ann_model.compile(optimizer=keras.optimizers.AdamW(0.01), #learning rate\n",
    "                 loss=\"mse\",\n",
    "                 metrics=[\"accuracy\"])"
   ]
  },
  {
   "cell_type": "code",
   "execution_count": 21,
   "id": "078aecb4",
   "metadata": {
    "scrolled": true
   },
   "outputs": [
    {
     "name": "stdout",
     "output_type": "stream",
     "text": [
      "Epoch 1/50\n",
      "282/282 - 5s - 17ms/step - accuracy: 0.7563 - loss: 0.2356 - val_accuracy: 0.7671 - val_loss: 0.2329\n",
      "Epoch 2/50\n",
      "282/282 - 1s - 4ms/step - accuracy: 0.7609 - loss: 0.2322 - val_accuracy: 0.7671 - val_loss: 0.2329\n",
      "Epoch 3/50\n",
      "282/282 - 1s - 4ms/step - accuracy: 0.7609 - loss: 0.2306 - val_accuracy: 0.7671 - val_loss: 0.2329\n",
      "Epoch 4/50\n",
      "282/282 - 1s - 4ms/step - accuracy: 0.7611 - loss: 0.2297 - val_accuracy: 0.7671 - val_loss: 0.1790\n",
      "Epoch 5/50\n",
      "282/282 - 1s - 4ms/step - accuracy: 0.7611 - loss: 0.1829 - val_accuracy: 0.7671 - val_loss: 0.1786\n",
      "Epoch 6/50\n",
      "282/282 - 1s - 5ms/step - accuracy: 0.7611 - loss: 0.1819 - val_accuracy: 0.7671 - val_loss: 0.1786\n",
      "Epoch 7/50\n",
      "282/282 - 1s - 4ms/step - accuracy: 0.7611 - loss: 0.1819 - val_accuracy: 0.7671 - val_loss: 0.1784\n",
      "Epoch 8/50\n",
      "282/282 - 1s - 5ms/step - accuracy: 0.7611 - loss: 0.1817 - val_accuracy: 0.7671 - val_loss: 0.1783\n",
      "Epoch 9/50\n",
      "282/282 - 1s - 4ms/step - accuracy: 0.7611 - loss: 0.1814 - val_accuracy: 0.7671 - val_loss: 0.1777\n",
      "Epoch 10/50\n",
      "282/282 - 1s - 4ms/step - accuracy: 0.7610 - loss: 0.1803 - val_accuracy: 0.7671 - val_loss: 0.1728\n",
      "Epoch 11/50\n",
      "282/282 - 1s - 5ms/step - accuracy: 0.7613 - loss: 0.2265 - val_accuracy: 0.7671 - val_loss: 0.2329\n",
      "Epoch 12/50\n",
      "282/282 - 1s - 5ms/step - accuracy: 0.7610 - loss: 0.2324 - val_accuracy: 0.7671 - val_loss: 0.2329\n",
      "Epoch 13/50\n",
      "282/282 - 1s - 4ms/step - accuracy: 0.7612 - loss: 0.2310 - val_accuracy: 0.7671 - val_loss: 0.2329\n",
      "Epoch 14/50\n",
      "282/282 - 1s - 4ms/step - accuracy: 0.7611 - loss: 0.2334 - val_accuracy: 0.7671 - val_loss: 0.2329\n",
      "Epoch 15/50\n",
      "282/282 - 1s - 4ms/step - accuracy: 0.7605 - loss: 0.2386 - val_accuracy: 0.7671 - val_loss: 0.2329\n",
      "Epoch 16/50\n",
      "282/282 - 1s - 4ms/step - accuracy: 0.7611 - loss: 0.2383 - val_accuracy: 0.7671 - val_loss: 0.2329\n",
      "Epoch 17/50\n",
      "282/282 - 1s - 5ms/step - accuracy: 0.7611 - loss: 0.2385 - val_accuracy: 0.7671 - val_loss: 0.2329\n",
      "Epoch 18/50\n",
      "282/282 - 1s - 4ms/step - accuracy: 0.7610 - loss: 0.2373 - val_accuracy: 0.7671 - val_loss: 0.2329\n",
      "Epoch 19/50\n",
      "282/282 - 1s - 5ms/step - accuracy: 0.7634 - loss: 0.1851 - val_accuracy: 0.7791 - val_loss: 0.1616\n",
      "Epoch 20/50\n",
      "282/282 - 1s - 4ms/step - accuracy: 0.7729 - loss: 0.1622 - val_accuracy: 0.8111 - val_loss: 0.1427\n",
      "Epoch 21/50\n",
      "282/282 - 1s - 5ms/step - accuracy: 0.7763 - loss: 0.1562 - val_accuracy: 0.7871 - val_loss: 0.1406\n",
      "Epoch 22/50\n",
      "282/282 - 1s - 4ms/step - accuracy: 0.7920 - loss: 0.1487 - val_accuracy: 0.7653 - val_loss: 0.1501\n",
      "Epoch 23/50\n",
      "282/282 - 1s - 4ms/step - accuracy: 0.7969 - loss: 0.1449 - val_accuracy: 0.8311 - val_loss: 0.1214\n",
      "Epoch 24/50\n",
      "282/282 - 1s - 4ms/step - accuracy: 0.8232 - loss: 0.1286 - val_accuracy: 0.8516 - val_loss: 0.1090\n",
      "Epoch 25/50\n",
      "282/282 - 1s - 5ms/step - accuracy: 0.7868 - loss: 0.1944 - val_accuracy: 0.7671 - val_loss: 0.2329\n",
      "Epoch 26/50\n",
      "282/282 - 1s - 4ms/step - accuracy: 0.7611 - loss: 0.2390 - val_accuracy: 0.7671 - val_loss: 0.2329\n",
      "Epoch 27/50\n",
      "282/282 - 1s - 5ms/step - accuracy: 0.7611 - loss: 0.2389 - val_accuracy: 0.7671 - val_loss: 0.2329\n",
      "Epoch 28/50\n",
      "282/282 - 1s - 4ms/step - accuracy: 0.7611 - loss: 0.2389 - val_accuracy: 0.7671 - val_loss: 0.2329\n",
      "Epoch 29/50\n",
      "282/282 - 1s - 4ms/step - accuracy: 0.7611 - loss: 0.2388 - val_accuracy: 0.7671 - val_loss: 0.2329\n",
      "Epoch 30/50\n",
      "282/282 - 1s - 4ms/step - accuracy: 0.7611 - loss: 0.2389 - val_accuracy: 0.7671 - val_loss: 0.2329\n",
      "Epoch 31/50\n",
      "282/282 - 1s - 4ms/step - accuracy: 0.7611 - loss: 0.2388 - val_accuracy: 0.7671 - val_loss: 0.2329\n",
      "Epoch 32/50\n",
      "282/282 - 1s - 5ms/step - accuracy: 0.7611 - loss: 0.2389 - val_accuracy: 0.7671 - val_loss: 0.2329\n",
      "Epoch 33/50\n",
      "282/282 - 1s - 4ms/step - accuracy: 0.7611 - loss: 0.2389 - val_accuracy: 0.7671 - val_loss: 0.2329\n",
      "Epoch 34/50\n",
      "282/282 - 1s - 4ms/step - accuracy: 0.7611 - loss: 0.2388 - val_accuracy: 0.7671 - val_loss: 0.2329\n"
     ]
    }
   ],
   "source": [
    "ann_latih = ann_model.fit(X_train, y_train,\n",
    "                         epochs=50,\n",
    "                         validation_split=0.2,\n",
    "                         callbacks=[early_stopping],\n",
    "                         verbose=2)"
   ]
  },
  {
   "cell_type": "code",
   "execution_count": 24,
   "id": "28568b83",
   "metadata": {},
   "outputs": [
    {
     "data": {
      "application/javascript": [
       "\n",
       "        if (window._pyforest_update_imports_cell) { window._pyforest_update_imports_cell('import pandas as pd\\nimport keras'); }\n",
       "    "
      ],
      "text/plain": [
       "<IPython.core.display.Javascript object>"
      ]
     },
     "metadata": {},
     "output_type": "display_data"
    },
    {
     "data": {
      "application/javascript": [
       "\n",
       "        if (window._pyforest_update_imports_cell) { window._pyforest_update_imports_cell('import pandas as pd\\nimport keras'); }\n",
       "    "
      ],
      "text/plain": [
       "<IPython.core.display.Javascript object>"
      ]
     },
     "metadata": {},
     "output_type": "display_data"
    },
    {
     "data": {
      "application/javascript": [
       "\n",
       "        if (window._pyforest_update_imports_cell) { window._pyforest_update_imports_cell('import pandas as pd\\nimport keras'); }\n",
       "    "
      ],
      "text/plain": [
       "<IPython.core.display.Javascript object>"
      ]
     },
     "metadata": {},
     "output_type": "display_data"
    },
    {
     "data": {
      "application/javascript": [
       "\n",
       "        if (window._pyforest_update_imports_cell) { window._pyforest_update_imports_cell('import pandas as pd\\nimport keras'); }\n",
       "    "
      ],
      "text/plain": [
       "<IPython.core.display.Javascript object>"
      ]
     },
     "metadata": {},
     "output_type": "display_data"
    },
    {
     "data": {
      "application/javascript": [
       "\n",
       "        if (window._pyforest_update_imports_cell) { window._pyforest_update_imports_cell('import pandas as pd\\nimport keras'); }\n",
       "    "
      ],
      "text/plain": [
       "<IPython.core.display.Javascript object>"
      ]
     },
     "metadata": {},
     "output_type": "display_data"
    },
    {
     "data": {
      "application/javascript": [
       "\n",
       "        if (window._pyforest_update_imports_cell) { window._pyforest_update_imports_cell('import pandas as pd\\nimport keras'); }\n",
       "    "
      ],
      "text/plain": [
       "<IPython.core.display.Javascript object>"
      ]
     },
     "metadata": {},
     "output_type": "display_data"
    },
    {
     "data": {
      "application/javascript": [
       "\n",
       "        if (window._pyforest_update_imports_cell) { window._pyforest_update_imports_cell('import pandas as pd\\nimport keras'); }\n",
       "    "
      ],
      "text/plain": [
       "<IPython.core.display.Javascript object>"
      ]
     },
     "metadata": {},
     "output_type": "display_data"
    },
    {
     "data": {
      "application/javascript": [
       "\n",
       "        if (window._pyforest_update_imports_cell) { window._pyforest_update_imports_cell('import pandas as pd\\nimport keras'); }\n",
       "    "
      ],
      "text/plain": [
       "<IPython.core.display.Javascript object>"
      ]
     },
     "metadata": {},
     "output_type": "display_data"
    },
    {
     "data": {
      "application/javascript": [
       "\n",
       "        if (window._pyforest_update_imports_cell) { window._pyforest_update_imports_cell('import pandas as pd\\nimport keras'); }\n",
       "    "
      ],
      "text/plain": [
       "<IPython.core.display.Javascript object>"
      ]
     },
     "metadata": {},
     "output_type": "display_data"
    }
   ],
   "source": [
    "ann_model3 = keras.Sequential()\n",
    "\n",
    "ann_model3.add(keras.layers.Dense(units=64, activation=\"relu\", input_shape=(12,)))\n",
    "ann_model3.add(keras.layers.Dropout(0.3))\n",
    "\n",
    "ann_model3.add(keras.layers.Dense(units=32, activation=\"relu\"))\n",
    "ann_model3.add(keras.layers.Dropout(0.3))\n",
    "\n",
    "ann_model3.add(keras.layers.Dense(units=16, activation=\"relu\"))\n",
    "ann_model3.add(keras.layers.Dropout(0.2))\n",
    "\n",
    "ann_model3.add(keras.layers.Dense(units=1, activation=\"sigmoid\"))\n",
    "\n",
    "ann_model3.compile(optimizer=keras.optimizers.RMSprop(learning_rate=0.001), \n",
    "                   loss=\"binary_crossentropy\",\n",
    "                   metrics=[\"accuracy\"])"
   ]
  },
  {
   "cell_type": "code",
   "execution_count": 25,
   "id": "c24a4b14",
   "metadata": {},
   "outputs": [
    {
     "name": "stdout",
     "output_type": "stream",
     "text": [
      "Epoch 1/100\n",
      "282/282 - 4s - 14ms/step - accuracy: 0.6430 - loss: 1.8505 - val_accuracy: 0.7671 - val_loss: 0.6345\n",
      "Epoch 2/100\n",
      "282/282 - 1s - 4ms/step - accuracy: 0.7479 - loss: 0.6130 - val_accuracy: 0.7671 - val_loss: 0.5800\n",
      "Epoch 3/100\n",
      "282/282 - 1s - 4ms/step - accuracy: 0.7582 - loss: 0.5801 - val_accuracy: 0.7671 - val_loss: 0.5594\n",
      "Epoch 4/100\n",
      "282/282 - 1s - 5ms/step - accuracy: 0.7601 - loss: 0.5674 - val_accuracy: 0.7671 - val_loss: 0.5485\n",
      "Epoch 5/100\n",
      "282/282 - 1s - 4ms/step - accuracy: 0.7608 - loss: 0.5630 - val_accuracy: 0.7671 - val_loss: 0.5461\n",
      "Epoch 6/100\n",
      "282/282 - 1s - 5ms/step - accuracy: 0.7608 - loss: 0.5563 - val_accuracy: 0.7671 - val_loss: 0.5463\n",
      "Epoch 7/100\n",
      "282/282 - 1s - 5ms/step - accuracy: 0.7610 - loss: 0.5558 - val_accuracy: 0.7671 - val_loss: 0.5467\n",
      "Epoch 8/100\n",
      "282/282 - 1s - 4ms/step - accuracy: 0.7612 - loss: 0.5445 - val_accuracy: 0.7671 - val_loss: 0.5248\n",
      "Epoch 9/100\n",
      "282/282 - 1s - 4ms/step - accuracy: 0.7611 - loss: 0.5312 - val_accuracy: 0.7671 - val_loss: 0.5030\n",
      "Epoch 10/100\n",
      "282/282 - 1s - 4ms/step - accuracy: 0.7611 - loss: 0.4909 - val_accuracy: 0.7671 - val_loss: 0.4262\n"
     ]
    }
   ],
   "source": [
    "ann_latih3 = ann_model3.fit(X_train, y_train,\n",
    "                            epochs=100,\n",
    "                            validation_split=0.2,\n",
    "                            callbacks=[early_stopping],\n",
    "                            verbose=2)"
   ]
  },
  {
   "cell_type": "code",
   "execution_count": 27,
   "id": "585ec5b9",
   "metadata": {},
   "outputs": [],
   "source": [
    "from tensorflow.keras.callbacks import LearningRateScheduler\n",
    "\n",
    "def learning_rate_scheduler(epoch, lr):\n",
    "    \n",
    "    if epoch % 10 == 0 and epoch != 0:\n",
    "        lr = lr * 0.1\n",
    "        \n",
    "    return lr"
   ]
  },
  {
   "cell_type": "code",
   "execution_count": 28,
   "id": "0938efc8",
   "metadata": {},
   "outputs": [],
   "source": [
    "lr_schedul = LearningRateScheduler(learning_rate_scheduler)"
   ]
  },
  {
   "cell_type": "code",
   "execution_count": 29,
   "id": "c56a2b7f",
   "metadata": {},
   "outputs": [
    {
     "data": {
      "application/javascript": [
       "\n",
       "        if (window._pyforest_update_imports_cell) { window._pyforest_update_imports_cell('import pandas as pd\\nimport keras'); }\n",
       "    "
      ],
      "text/plain": [
       "<IPython.core.display.Javascript object>"
      ]
     },
     "metadata": {},
     "output_type": "display_data"
    },
    {
     "data": {
      "application/javascript": [
       "\n",
       "        if (window._pyforest_update_imports_cell) { window._pyforest_update_imports_cell('import pandas as pd\\nimport keras'); }\n",
       "    "
      ],
      "text/plain": [
       "<IPython.core.display.Javascript object>"
      ]
     },
     "metadata": {},
     "output_type": "display_data"
    },
    {
     "data": {
      "application/javascript": [
       "\n",
       "        if (window._pyforest_update_imports_cell) { window._pyforest_update_imports_cell('import pandas as pd\\nimport keras'); }\n",
       "    "
      ],
      "text/plain": [
       "<IPython.core.display.Javascript object>"
      ]
     },
     "metadata": {},
     "output_type": "display_data"
    },
    {
     "data": {
      "application/javascript": [
       "\n",
       "        if (window._pyforest_update_imports_cell) { window._pyforest_update_imports_cell('import pandas as pd\\nimport keras'); }\n",
       "    "
      ],
      "text/plain": [
       "<IPython.core.display.Javascript object>"
      ]
     },
     "metadata": {},
     "output_type": "display_data"
    },
    {
     "data": {
      "application/javascript": [
       "\n",
       "        if (window._pyforest_update_imports_cell) { window._pyforest_update_imports_cell('import pandas as pd\\nimport keras'); }\n",
       "    "
      ],
      "text/plain": [
       "<IPython.core.display.Javascript object>"
      ]
     },
     "metadata": {},
     "output_type": "display_data"
    },
    {
     "data": {
      "application/javascript": [
       "\n",
       "        if (window._pyforest_update_imports_cell) { window._pyforest_update_imports_cell('import pandas as pd\\nimport keras'); }\n",
       "    "
      ],
      "text/plain": [
       "<IPython.core.display.Javascript object>"
      ]
     },
     "metadata": {},
     "output_type": "display_data"
    },
    {
     "data": {
      "application/javascript": [
       "\n",
       "        if (window._pyforest_update_imports_cell) { window._pyforest_update_imports_cell('import pandas as pd\\nimport keras'); }\n",
       "    "
      ],
      "text/plain": [
       "<IPython.core.display.Javascript object>"
      ]
     },
     "metadata": {},
     "output_type": "display_data"
    }
   ],
   "source": [
    "ann_model4 = keras.Sequential()\n",
    "\n",
    "ann_model4.add(keras.layers.Dense(units=12, activation=\"relu\", input_shape=(12,)))\n",
    "ann_model4.add(keras.layers.Dropout(0.3))\n",
    "\n",
    "ann_model4.add(keras.layers.Dense(units=6, activation=\"relu\"))\n",
    "ann_model4.add(keras.layers.Dropout(0.2))\n",
    "\n",
    "ann_model4.add(keras.layers.Dense(units=1, activation=\"sigmoid\"))\n",
    "\n",
    "ann_model4.compile(optimizer=keras.optimizers.RMSprop(learning_rate=0.01), \n",
    "                   loss=\"binary_crossentropy\",\n",
    "                   metrics=[\"accuracy\"])"
   ]
  },
  {
   "cell_type": "code",
   "execution_count": 30,
   "id": "e367b922",
   "metadata": {},
   "outputs": [
    {
     "name": "stdout",
     "output_type": "stream",
     "text": [
      "Epoch 1/100\n",
      "71/71 - 3s - 38ms/step - accuracy: 0.7239 - loss: 1.6885 - val_accuracy: 0.7671 - val_loss: 0.5690 - learning_rate: 0.0100\n",
      "Epoch 2/100\n",
      "71/71 - 0s - 5ms/step - accuracy: 0.7589 - loss: 0.5599 - val_accuracy: 0.7671 - val_loss: 0.5438 - learning_rate: 0.0100\n",
      "Epoch 3/100\n",
      "71/71 - 0s - 5ms/step - accuracy: 0.7611 - loss: 0.5499 - val_accuracy: 0.7671 - val_loss: 0.5427 - learning_rate: 0.0100\n",
      "Epoch 4/100\n",
      "71/71 - 0s - 5ms/step - accuracy: 0.7611 - loss: 0.5504 - val_accuracy: 0.7671 - val_loss: 0.5431 - learning_rate: 0.0100\n",
      "Epoch 5/100\n",
      "71/71 - 0s - 5ms/step - accuracy: 0.7611 - loss: 0.5502 - val_accuracy: 0.7671 - val_loss: 0.5427 - learning_rate: 0.0100\n",
      "Epoch 6/100\n",
      "71/71 - 0s - 5ms/step - accuracy: 0.7611 - loss: 0.5500 - val_accuracy: 0.7671 - val_loss: 0.5429 - learning_rate: 0.0100\n",
      "Epoch 7/100\n",
      "71/71 - 0s - 5ms/step - accuracy: 0.7611 - loss: 0.5495 - val_accuracy: 0.7671 - val_loss: 0.5435 - learning_rate: 0.0100\n",
      "Epoch 8/100\n",
      "71/71 - 0s - 5ms/step - accuracy: 0.7611 - loss: 0.5502 - val_accuracy: 0.7671 - val_loss: 0.5429 - learning_rate: 0.0100\n",
      "Epoch 9/100\n",
      "71/71 - 0s - 5ms/step - accuracy: 0.7611 - loss: 0.5501 - val_accuracy: 0.7671 - val_loss: 0.5432 - learning_rate: 0.0100\n",
      "Epoch 10/100\n",
      "71/71 - 1s - 10ms/step - accuracy: 0.7611 - loss: 0.5500 - val_accuracy: 0.7671 - val_loss: 0.5429 - learning_rate: 0.0100\n"
     ]
    },
    {
     "data": {
      "text/plain": [
       "<keras.src.callbacks.history.History at 0x27254dffa10>"
      ]
     },
     "execution_count": 30,
     "metadata": {},
     "output_type": "execute_result"
    }
   ],
   "source": [
    "ann_model4.fit(X_train,\n",
    "               y_train,\n",
    "               epochs=100,\n",
    "               batch_size=128,\n",
    "               validation_split=0.2,\n",
    "               callbacks=[lr_schedul, early_stopping],\n",
    "               verbose=2)"
   ]
  },
  {
   "cell_type": "code",
   "execution_count": 39,
   "id": "e77e66ed",
   "metadata": {},
   "outputs": [
    {
     "data": {
      "application/javascript": [
       "\n",
       "        if (window._pyforest_update_imports_cell) { window._pyforest_update_imports_cell('import pandas as pd\\nimport keras\\nimport tensorflow as tf'); }\n",
       "    "
      ],
      "text/plain": [
       "<IPython.core.display.Javascript object>"
      ]
     },
     "metadata": {},
     "output_type": "display_data"
    },
    {
     "data": {
      "application/javascript": [
       "\n",
       "        if (window._pyforest_update_imports_cell) { window._pyforest_update_imports_cell('import pandas as pd\\nimport keras\\nimport tensorflow as tf'); }\n",
       "    "
      ],
      "text/plain": [
       "<IPython.core.display.Javascript object>"
      ]
     },
     "metadata": {},
     "output_type": "display_data"
    },
    {
     "data": {
      "application/javascript": [
       "\n",
       "        if (window._pyforest_update_imports_cell) { window._pyforest_update_imports_cell('import pandas as pd\\nimport keras\\nimport tensorflow as tf'); }\n",
       "    "
      ],
      "text/plain": [
       "<IPython.core.display.Javascript object>"
      ]
     },
     "metadata": {},
     "output_type": "display_data"
    },
    {
     "data": {
      "application/javascript": [
       "\n",
       "        if (window._pyforest_update_imports_cell) { window._pyforest_update_imports_cell('import pandas as pd\\nimport keras\\nimport tensorflow as tf'); }\n",
       "    "
      ],
      "text/plain": [
       "<IPython.core.display.Javascript object>"
      ]
     },
     "metadata": {},
     "output_type": "display_data"
    },
    {
     "data": {
      "application/javascript": [
       "\n",
       "        if (window._pyforest_update_imports_cell) { window._pyforest_update_imports_cell('import pandas as pd\\nimport keras\\nimport tensorflow as tf'); }\n",
       "    "
      ],
      "text/plain": [
       "<IPython.core.display.Javascript object>"
      ]
     },
     "metadata": {},
     "output_type": "display_data"
    },
    {
     "data": {
      "application/javascript": [
       "\n",
       "        if (window._pyforest_update_imports_cell) { window._pyforest_update_imports_cell('import pandas as pd\\nimport keras\\nimport tensorflow as tf'); }\n",
       "    "
      ],
      "text/plain": [
       "<IPython.core.display.Javascript object>"
      ]
     },
     "metadata": {},
     "output_type": "display_data"
    },
    {
     "data": {
      "application/javascript": [
       "\n",
       "        if (window._pyforest_update_imports_cell) { window._pyforest_update_imports_cell('import pandas as pd\\nimport keras\\nimport tensorflow as tf'); }\n",
       "    "
      ],
      "text/plain": [
       "<IPython.core.display.Javascript object>"
      ]
     },
     "metadata": {},
     "output_type": "display_data"
    },
    {
     "data": {
      "application/javascript": [
       "\n",
       "        if (window._pyforest_update_imports_cell) { window._pyforest_update_imports_cell('import pandas as pd\\nimport keras\\nimport tensorflow as tf'); }\n",
       "    "
      ],
      "text/plain": [
       "<IPython.core.display.Javascript object>"
      ]
     },
     "metadata": {},
     "output_type": "display_data"
    },
    {
     "data": {
      "application/javascript": [
       "\n",
       "        if (window._pyforest_update_imports_cell) { window._pyforest_update_imports_cell('import pandas as pd\\nimport keras\\nimport tensorflow as tf'); }\n",
       "    "
      ],
      "text/plain": [
       "<IPython.core.display.Javascript object>"
      ]
     },
     "metadata": {},
     "output_type": "display_data"
    }
   ],
   "source": [
    "ann_model7 = keras.Sequential()\n",
    "\n",
    "ann_model7.add(keras.layers.Dense(units=24, activation=\"softplus\", input_shape=(12,)))\n",
    "ann_model7.add(keras.layers.Dropout(0.1)) #untuk antisipasi overfit\n",
    "\n",
    "ann_model7.add(keras.layers.Dense(units=12, activation=\"softplus\", input_shape=(12,)))\n",
    "ann_model7.add(keras.layers.Dropout(0.1)) #untuk antisipasi overfit\n",
    "\n",
    "ann_model7.add(keras.layers.Dense(units=6, activation=\"softplus\", input_shape=(12,)))\n",
    "ann_model7.add(keras.layers.Dropout(0.1)) #untuk antisipasi overfit\n",
    "\n",
    "ann_model7.add(keras.layers.Dense(units=1, activation=\"sigmoid\")) #output\n",
    "\n",
    "ann_model7.compile(optimizer=tf.keras.optimizers.Adadelta(), \n",
    "                   loss=\"binary_crossentropy\",\n",
    "                   metrics=[\"accuracy\"])"
   ]
  },
  {
   "cell_type": "code",
   "execution_count": 40,
   "id": "288b255d",
   "metadata": {},
   "outputs": [
    {
     "name": "stdout",
     "output_type": "stream",
     "text": [
      "Epoch 1/50\n",
      "282/282 - 2s - 7ms/step - accuracy: 0.4246 - loss: 10.8377 - val_accuracy: 0.2329 - val_loss: 9.5421\n",
      "Epoch 2/50\n",
      "282/282 - 1s - 2ms/step - accuracy: 0.4289 - loss: 10.4974 - val_accuracy: 0.2329 - val_loss: 8.7141\n",
      "Epoch 3/50\n",
      "282/282 - 1s - 2ms/step - accuracy: 0.4370 - loss: 10.0323 - val_accuracy: 0.2329 - val_loss: 7.8557\n",
      "Epoch 4/50\n",
      "282/282 - 1s - 2ms/step - accuracy: 0.4492 - loss: 9.3620 - val_accuracy: 0.2329 - val_loss: 6.9378\n",
      "Epoch 5/50\n",
      "282/282 - 1s - 2ms/step - accuracy: 0.4423 - loss: 9.1087 - val_accuracy: 0.2329 - val_loss: 5.9587\n",
      "Epoch 6/50\n",
      "282/282 - 1s - 2ms/step - accuracy: 0.4584 - loss: 8.4803 - val_accuracy: 0.2329 - val_loss: 5.0147\n",
      "Epoch 7/50\n",
      "282/282 - 1s - 2ms/step - accuracy: 0.4586 - loss: 8.2046 - val_accuracy: 0.2329 - val_loss: 4.0780\n",
      "Epoch 8/50\n",
      "282/282 - 1s - 2ms/step - accuracy: 0.4633 - loss: 7.9146 - val_accuracy: 0.2329 - val_loss: 3.1636\n",
      "Epoch 9/50\n",
      "282/282 - 1s - 3ms/step - accuracy: 0.4719 - loss: 7.4315 - val_accuracy: 0.2329 - val_loss: 2.3158\n",
      "Epoch 10/50\n",
      "282/282 - 1s - 2ms/step - accuracy: 0.4812 - loss: 7.0447 - val_accuracy: 0.2329 - val_loss: 1.5948\n"
     ]
    },
    {
     "data": {
      "text/plain": [
       "<keras.src.callbacks.history.History at 0x2725ab01450>"
      ]
     },
     "execution_count": 40,
     "metadata": {},
     "output_type": "execute_result"
    }
   ],
   "source": [
    "ann_model7.fit(X_train,\n",
    "               y_train,\n",
    "               epochs=50,\n",
    "               validation_split=0.2,\n",
    "               callbacks=[early_stopping],\n",
    "               verbose=2)"
   ]
  },
  {
   "cell_type": "markdown",
   "id": "b3956a92",
   "metadata": {},
   "source": [
    "### First Model is ann_model"
   ]
  },
  {
   "cell_type": "code",
   "execution_count": 42,
   "id": "00222a2a",
   "metadata": {},
   "outputs": [],
   "source": [
    "def viz_hasil_churn(ann_latih):\n",
    "\n",
    "    fig, (ax1, ax2) = plt.subplots(1, 2)\n",
    "\n",
    "    ax1.plot(ann_latih.history[\"accuracy\"],     label= \"Model accuracy\")\n",
    "    ax1.plot(ann_latih.history[\"val_accuracy\"], label= \"Valid accuracy\")\n",
    "    ax1.set_title(\"Model accuracy\")\n",
    "    ax1.set_ylabel(\"accuracy\")\n",
    "    ax1.set_xlabel(\"epoch\")\n",
    "    \n",
    "    ax2.plot(ann_latih.history[\"loss\"],     label= \"Model loss\")\n",
    "    ax2.plot(ann_latih.history[\"val_loss\"], label= \"Valid loss\")\n",
    "    ax2.set_title(\"Model loss\", )\n",
    "    ax2.set_ylabel(\"loss\")\n",
    "    ax2.set_xlabel(\"epoch\")\n",
    "\n",
    "    ax1.legend()\n",
    "    ax2.legend()\n",
    "    \n",
    "    ax1.spines[['right', 'top']] .set_visible(False)\n",
    "    ax2.spines[['right', 'top']] .set_visible(False)\n",
    "    \n",
    "\n",
    "    fig.suptitle(\"Model loss & accuracy\")\n",
    "    fig.set_size_inches(12, 6)\n",
    "    plt.show()"
   ]
  },
  {
   "cell_type": "code",
   "execution_count": 43,
   "id": "efac6c66",
   "metadata": {},
   "outputs": [
    {
     "data": {
      "application/javascript": [
       "\n",
       "        if (window._pyforest_update_imports_cell) { window._pyforest_update_imports_cell('import pandas as pd\\nimport keras\\nimport matplotlib.pyplot as plt\\nimport tensorflow as tf'); }\n",
       "    "
      ],
      "text/plain": [
       "<IPython.core.display.Javascript object>"
      ]
     },
     "metadata": {},
     "output_type": "display_data"
    },
    {
     "data": {
      "application/javascript": [
       "\n",
       "        if (window._pyforest_update_imports_cell) { window._pyforest_update_imports_cell('import pandas as pd\\nimport keras\\nimport matplotlib.pyplot as plt\\nimport tensorflow as tf'); }\n",
       "    "
      ],
      "text/plain": [
       "<IPython.core.display.Javascript object>"
      ]
     },
     "metadata": {},
     "output_type": "display_data"
    },
    {
     "data": {
      "image/png": "[encoded data removed]",
      "text/plain": [
       "<Figure size 1200x600 with 2 Axes>"
      ]
     },
     "metadata": {},
     "output_type": "display_data"
    }
   ],
   "source": [
    "viz_hasil_churn(ann_latih)"
   ]
  },
  {
   "cell_type": "code",
   "execution_count": 46,
   "id": "aefb2e67",
   "metadata": {},
   "outputs": [
    {
     "name": "stdout",
     "output_type": "stream",
     "text": [
      "Hasil Evaluasi Model terhadap Prediksi data test menggunakan NN:\n"
     ]
    },
    {
     "data": {
      "application/javascript": [
       "\n",
       "        if (window._pyforest_update_imports_cell) { window._pyforest_update_imports_cell('import tensorflow as tf\\nimport matplotlib.pyplot as plt\\nimport numpy as np\\nimport keras\\nimport pandas as pd'); }\n",
       "    "
      ],
      "text/plain": [
       "<IPython.core.display.Javascript object>"
      ]
     },
     "metadata": {},
     "output_type": "display_data"
    },
    {
     "name": "stdout",
     "output_type": "stream",
     "text": [
      "Accuracy:  0.760800\n",
      "Precision:  0.000000\n",
      "Recall:  0.000000\n",
      "F1 Score:  0.000000\n",
      "Loss:  3.813419\n"
     ]
    }
   ],
   "source": [
    "print(\"Hasil Evaluasi Model terhadap Prediksi data test menggunakan NN:\")\n",
    "pred_report_nn(y_test, ann_model.predict(X_test, verbose=0))"
   ]
  },
  {
   "cell_type": "markdown",
   "id": "1388cf32",
   "metadata": {},
   "source": [
    "### Seems like this model is not good and doesnt fit to use when deploy to an app. so yeah i think Light GBM is still the winner !!"
   ]
  }
 ],
 "metadata": {
  "kernelspec": {
   "display_name": "Python 3 (ipykernel)",
   "language": "python",
   "name": "python3"
  },
  "language_info": {
   "codemirror_mode": {
    "name": "ipython",
    "version": 3
   },
   "file_extension": ".py",
   "mimetype": "text/x-python",
   "name": "python",
   "nbconvert_exporter": "python",
   "pygments_lexer": "ipython3",
   "version": "3.11.5"
  }
 },
 "nbformat": 4,
 "nbformat_minor": 5
}
