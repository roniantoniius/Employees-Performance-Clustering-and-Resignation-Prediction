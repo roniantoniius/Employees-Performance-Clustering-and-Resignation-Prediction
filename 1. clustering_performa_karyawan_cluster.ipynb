{
 "cells": [
  {
   "cell_type": "markdown",
   "id": "1e34cd01",
   "metadata": {},
   "source": [
    "# Employee Performance Clustering (1)"
   ]
  },
  {
   "cell_type": "code",
   "execution_count": 1,
   "id": "bf1f32a5",
   "metadata": {},
   "outputs": [],
   "source": [
    "import warnings\n",
    "import os\n",
    "warnings.filterwarnings('ignore')"
   ]
  },
  {
   "cell_type": "code",
   "execution_count": 2,
   "id": "ac85153b",
   "metadata": {},
   "outputs": [],
   "source": [
    "from sklearn.feature_selection     import SelectKBest, f_classif\n",
    "from feature_engine.outliers       import Winsorizer\n",
    "from sklearn.model_selection       import train_test_split\n",
    "from sklearn.preprocessing         import MinMaxScaler, StandardScaler\n",
    "from sklearn.preprocessing         import LabelEncoder, OrdinalEncoder, OneHotEncoder\n",
    "from kmodes.kprototypes            import KPrototypes\n",
    "from sklearn.pipeline              import make_pipeline\n",
    "from sklearn.compose               import ColumnTransformer\n",
    "from sklearn.metrics               import accuracy_score, classification_report, ConfusionMatrixDisplay, confusion_matrix\n",
    "from pyspark.sql                   import SparkSession\n",
    "from pyforest                      import *"
   ]
  },
  {
   "cell_type": "code",
   "execution_count": 4,
   "id": "90129f6f",
   "metadata": {},
   "outputs": [],
   "source": [
    "# env\n",
    "os.environ['HADOOP_HOME']     = r\"C:\\hadoop\"\n",
    "os.environ['HADOOP_CONF_DIR'] = r\"C:\\hadoop\\etc\\hadoop\"\n",
    "os.environ['JAVA_HOME']       = r\"C:\\Java\"  # path jdk\n",
    "\n",
    "\n",
    "# sesi spark\n",
    "spark = SparkSession.builder \\\n",
    "    .appName(\"Hadoop Clustering Performa Karyawan\") \\\n",
    "    .config(\"spark.hadoop.fs.defaultFS\", \"hdfs://localhost:9000\") \\\n",
    "    .config(\"spark.yarn.stagingDir\", \"/user/ASUS/.sparkStaging\") \\\n",
    "    .getOrCreate()"
   ]
  },
  {
   "cell_type": "code",
   "execution_count": 5,
   "id": "a93dfc7e",
   "metadata": {},
   "outputs": [
    {
     "data": {
      "application/javascript": [
       "\n",
       "        if (window._pyforest_update_imports_cell) { window._pyforest_update_imports_cell('import pandas as pd'); }\n",
       "    "
      ],
      "text/plain": [
       "<IPython.core.display.Javascript object>"
      ]
     },
     "metadata": {},
     "output_type": "display_data"
    }
   ],
   "source": [
    "# data hdfs\n",
    "hdfs_path   = \"/user/ASUS/hadoop_clustering_employee_turnover/HR_Employees.csv\"\n",
    "data_hadoop = spark.read.csv(hdfs_path, header=True, inferSchema=True)"
   ]
  },
  {
   "cell_type": "code",
   "execution_count": 6,
   "id": "2d936425",
   "metadata": {},
   "outputs": [
    {
     "data": {
      "application/javascript": [
       "\n",
       "        if (window._pyforest_update_imports_cell) { window._pyforest_update_imports_cell('import pandas as pd'); }\n",
       "    "
      ],
      "text/plain": [
       "<IPython.core.display.Javascript object>"
      ]
     },
     "metadata": {},
     "output_type": "display_data"
    }
   ],
   "source": [
    "df          = pd.DataFrame(data_hadoop)"
   ]
  },
  {
   "cell_type": "code",
   "execution_count": 7,
   "id": "24973dc4",
   "metadata": {},
   "outputs": [
    {
     "name": "stdout",
     "output_type": "stream",
     "text": [
      "<class 'pandas.core.frame.DataFrame'>\n",
      "RangeIndex: 14999 entries, 0 to 14998\n",
      "Data columns (total 10 columns):\n",
      " #   Column                      Non-Null Count  Dtype  \n",
      "---  ------                      --------------  -----  \n",
      " 0   tingkat_kepuasan            14999 non-null  float64\n",
      " 1   evaluasi_terakhir           14999 non-null  float64\n",
      " 2   jumlah_proyek               14999 non-null  int64  \n",
      " 3   rata-rata_jam_bulan         14999 non-null  int64  \n",
      " 4   waktu_spent_for_perusahaan  14999 non-null  int64  \n",
      " 5   Kecelakaan_kerja            14999 non-null  int64  \n",
      " 6   resign                      14999 non-null  int64  \n",
      " 7   promosi_5tahun_terakhir     14999 non-null  int64  \n",
      " 8   Departemen                  14999 non-null  object \n",
      " 9   gaji                        14999 non-null  object \n",
      "dtypes: float64(2), int64(6), object(2)\n",
      "memory usage: 1.1+ MB\n"
     ]
    }
   ],
   "source": [
    "df.info()"
   ]
  },
  {
   "cell_type": "code",
   "execution_count": 8,
   "id": "1e68573d",
   "metadata": {},
   "outputs": [
    {
     "data": {
      "text/plain": [
       "Index(['tingkat_kepuasan', 'evaluasi_terakhir', 'jumlah_proyek',\n",
       "       'rata-rata_jam_bulan', 'waktu_spent_for_perusahaan', 'Kecelakaan_kerja',\n",
       "       'resign', 'promosi_5tahun_terakhir', 'Departemen', 'gaji'],\n",
       "      dtype='object')"
      ]
     },
     "execution_count": 8,
     "metadata": {},
     "output_type": "execute_result"
    }
   ],
   "source": [
    "df.columns"
   ]
  },
  {
   "cell_type": "code",
   "execution_count": 9,
   "id": "a16975b1",
   "metadata": {},
   "outputs": [
    {
     "data": {
      "text/html": [
       "<div>\n",
       "<style scoped>\n",
       "    .dataframe tbody tr th:only-of-type {\n",
       "        vertical-align: middle;\n",
       "    }\n",
       "\n",
       "    .dataframe tbody tr th {\n",
       "        vertical-align: top;\n",
       "    }\n",
       "\n",
       "    .dataframe thead th {\n",
       "        text-align: right;\n",
       "    }\n",
       "</style>\n",
       "<table border=\"1\" class=\"dataframe\">\n",
       "  <thead>\n",
       "    <tr style=\"text-align: right;\">\n",
       "      <th></th>\n",
       "      <th>tingkat_kepuasan</th>\n",
       "      <th>evaluasi_terakhir</th>\n",
       "      <th>jumlah_proyek</th>\n",
       "      <th>rata-rata_jam_bulan</th>\n",
       "      <th>waktu_spent_for_perusahaan</th>\n",
       "      <th>Kecelakaan_kerja</th>\n",
       "      <th>resign</th>\n",
       "      <th>promosi_5tahun_terakhir</th>\n",
       "      <th>Departemen</th>\n",
       "      <th>gaji</th>\n",
       "    </tr>\n",
       "  </thead>\n",
       "  <tbody>\n",
       "    <tr>\n",
       "      <th>0</th>\n",
       "      <td>0.38</td>\n",
       "      <td>0.53</td>\n",
       "      <td>2</td>\n",
       "      <td>157</td>\n",
       "      <td>3</td>\n",
       "      <td>0</td>\n",
       "      <td>1</td>\n",
       "      <td>0</td>\n",
       "      <td>sales</td>\n",
       "      <td>low</td>\n",
       "    </tr>\n",
       "    <tr>\n",
       "      <th>1</th>\n",
       "      <td>0.80</td>\n",
       "      <td>0.86</td>\n",
       "      <td>5</td>\n",
       "      <td>262</td>\n",
       "      <td>6</td>\n",
       "      <td>0</td>\n",
       "      <td>1</td>\n",
       "      <td>0</td>\n",
       "      <td>sales</td>\n",
       "      <td>medium</td>\n",
       "    </tr>\n",
       "    <tr>\n",
       "      <th>2</th>\n",
       "      <td>0.11</td>\n",
       "      <td>0.88</td>\n",
       "      <td>7</td>\n",
       "      <td>272</td>\n",
       "      <td>4</td>\n",
       "      <td>0</td>\n",
       "      <td>1</td>\n",
       "      <td>0</td>\n",
       "      <td>sales</td>\n",
       "      <td>medium</td>\n",
       "    </tr>\n",
       "    <tr>\n",
       "      <th>3</th>\n",
       "      <td>0.72</td>\n",
       "      <td>0.87</td>\n",
       "      <td>5</td>\n",
       "      <td>223</td>\n",
       "      <td>5</td>\n",
       "      <td>0</td>\n",
       "      <td>1</td>\n",
       "      <td>0</td>\n",
       "      <td>sales</td>\n",
       "      <td>low</td>\n",
       "    </tr>\n",
       "    <tr>\n",
       "      <th>4</th>\n",
       "      <td>0.37</td>\n",
       "      <td>0.52</td>\n",
       "      <td>2</td>\n",
       "      <td>159</td>\n",
       "      <td>3</td>\n",
       "      <td>0</td>\n",
       "      <td>1</td>\n",
       "      <td>0</td>\n",
       "      <td>sales</td>\n",
       "      <td>low</td>\n",
       "    </tr>\n",
       "  </tbody>\n",
       "</table>\n",
       "</div>"
      ],
      "text/plain": [
       "   tingkat_kepuasan  evaluasi_terakhir  jumlah_proyek  rata-rata_jam_bulan  \\\n",
       "0              0.38               0.53              2                  157   \n",
       "1              0.80               0.86              5                  262   \n",
       "2              0.11               0.88              7                  272   \n",
       "3              0.72               0.87              5                  223   \n",
       "4              0.37               0.52              2                  159   \n",
       "\n",
       "   waktu_spent_for_perusahaan  Kecelakaan_kerja  resign  \\\n",
       "0                           3                 0       1   \n",
       "1                           6                 0       1   \n",
       "2                           4                 0       1   \n",
       "3                           5                 0       1   \n",
       "4                           3                 0       1   \n",
       "\n",
       "   promosi_5tahun_terakhir Departemen    gaji  \n",
       "0                        0      sales     low  \n",
       "1                        0      sales  medium  \n",
       "2                        0      sales  medium  \n",
       "3                        0      sales     low  \n",
       "4                        0      sales     low  "
      ]
     },
     "execution_count": 9,
     "metadata": {},
     "output_type": "execute_result"
    }
   ],
   "source": [
    "df.head(5)"
   ]
  },
  {
   "cell_type": "markdown",
   "id": "259c9a4e",
   "metadata": {},
   "source": [
    "#### Data Cleaning"
   ]
  },
  {
   "cell_type": "code",
   "execution_count": 10,
   "id": "5441c22b",
   "metadata": {},
   "outputs": [
    {
     "data": {
      "text/plain": [
       "array(['sales', 'accounting', 'hr', 'technical', 'support', 'management',\n",
       "       'IT', 'product_mng', 'marketing', 'RandD'], dtype=object)"
      ]
     },
     "execution_count": 10,
     "metadata": {},
     "output_type": "execute_result"
    }
   ],
   "source": [
    "df['Departemen'].unique()"
   ]
  },
  {
   "cell_type": "markdown",
   "id": "a7bd39fa",
   "metadata": {},
   "source": [
    "one-hot encoding"
   ]
  },
  {
   "cell_type": "code",
   "execution_count": 11,
   "id": "0e7a4baa",
   "metadata": {},
   "outputs": [
    {
     "data": {
      "text/plain": [
       "array(['low', 'medium', 'high'], dtype=object)"
      ]
     },
     "execution_count": 11,
     "metadata": {},
     "output_type": "execute_result"
    }
   ],
   "source": [
    "df['gaji'].unique()"
   ]
  },
  {
   "cell_type": "markdown",
   "id": "f93d8574",
   "metadata": {},
   "source": [
    "ordinal encoding with ordinal encoder, manual"
   ]
  },
  {
   "cell_type": "code",
   "execution_count": 13,
   "id": "38dc95c0",
   "metadata": {},
   "outputs": [
    {
     "data": {
      "text/plain": [
       "tingkat_kepuasan              0\n",
       "evaluasi_terakhir             0\n",
       "jumlah_proyek                 0\n",
       "rata-rata_jam_bulan           0\n",
       "waktu_spent_for_perusahaan    0\n",
       "Kecelakaan_kerja              0\n",
       "resign                        0\n",
       "promosi_5tahun_terakhir       0\n",
       "Departemen                    0\n",
       "gaji                          0\n",
       "dtype: int64"
      ]
     },
     "execution_count": 13,
     "metadata": {},
     "output_type": "execute_result"
    }
   ],
   "source": [
    "df.isnull().sum()"
   ]
  },
  {
   "cell_type": "code",
   "execution_count": 14,
   "id": "7c4b4dc6",
   "metadata": {},
   "outputs": [
    {
     "data": {
      "text/html": [
       "<div>\n",
       "<style scoped>\n",
       "    .dataframe tbody tr th:only-of-type {\n",
       "        vertical-align: middle;\n",
       "    }\n",
       "\n",
       "    .dataframe tbody tr th {\n",
       "        vertical-align: top;\n",
       "    }\n",
       "\n",
       "    .dataframe thead th {\n",
       "        text-align: right;\n",
       "    }\n",
       "</style>\n",
       "<table border=\"1\" class=\"dataframe\">\n",
       "  <thead>\n",
       "    <tr style=\"text-align: right;\">\n",
       "      <th></th>\n",
       "      <th>tingkat_kepuasan</th>\n",
       "      <th>evaluasi_terakhir</th>\n",
       "      <th>jumlah_proyek</th>\n",
       "      <th>rata-rata_jam_bulan</th>\n",
       "      <th>waktu_spent_for_perusahaan</th>\n",
       "      <th>Kecelakaan_kerja</th>\n",
       "      <th>resign</th>\n",
       "      <th>promosi_5tahun_terakhir</th>\n",
       "    </tr>\n",
       "  </thead>\n",
       "  <tbody>\n",
       "    <tr>\n",
       "      <th>count</th>\n",
       "      <td>14999.000000</td>\n",
       "      <td>14999.000000</td>\n",
       "      <td>14999.000000</td>\n",
       "      <td>14999.000000</td>\n",
       "      <td>14999.000000</td>\n",
       "      <td>14999.000000</td>\n",
       "      <td>14999.000000</td>\n",
       "      <td>14999.000000</td>\n",
       "    </tr>\n",
       "    <tr>\n",
       "      <th>mean</th>\n",
       "      <td>0.612834</td>\n",
       "      <td>0.716102</td>\n",
       "      <td>3.803054</td>\n",
       "      <td>201.050337</td>\n",
       "      <td>3.498233</td>\n",
       "      <td>0.144610</td>\n",
       "      <td>0.238083</td>\n",
       "      <td>0.021268</td>\n",
       "    </tr>\n",
       "    <tr>\n",
       "      <th>std</th>\n",
       "      <td>0.248631</td>\n",
       "      <td>0.171169</td>\n",
       "      <td>1.232592</td>\n",
       "      <td>49.943099</td>\n",
       "      <td>1.460136</td>\n",
       "      <td>0.351719</td>\n",
       "      <td>0.425924</td>\n",
       "      <td>0.144281</td>\n",
       "    </tr>\n",
       "    <tr>\n",
       "      <th>min</th>\n",
       "      <td>0.090000</td>\n",
       "      <td>0.360000</td>\n",
       "      <td>2.000000</td>\n",
       "      <td>96.000000</td>\n",
       "      <td>2.000000</td>\n",
       "      <td>0.000000</td>\n",
       "      <td>0.000000</td>\n",
       "      <td>0.000000</td>\n",
       "    </tr>\n",
       "    <tr>\n",
       "      <th>25%</th>\n",
       "      <td>0.440000</td>\n",
       "      <td>0.560000</td>\n",
       "      <td>3.000000</td>\n",
       "      <td>156.000000</td>\n",
       "      <td>3.000000</td>\n",
       "      <td>0.000000</td>\n",
       "      <td>0.000000</td>\n",
       "      <td>0.000000</td>\n",
       "    </tr>\n",
       "    <tr>\n",
       "      <th>50%</th>\n",
       "      <td>0.640000</td>\n",
       "      <td>0.720000</td>\n",
       "      <td>4.000000</td>\n",
       "      <td>200.000000</td>\n",
       "      <td>3.000000</td>\n",
       "      <td>0.000000</td>\n",
       "      <td>0.000000</td>\n",
       "      <td>0.000000</td>\n",
       "    </tr>\n",
       "    <tr>\n",
       "      <th>75%</th>\n",
       "      <td>0.820000</td>\n",
       "      <td>0.870000</td>\n",
       "      <td>5.000000</td>\n",
       "      <td>245.000000</td>\n",
       "      <td>4.000000</td>\n",
       "      <td>0.000000</td>\n",
       "      <td>0.000000</td>\n",
       "      <td>0.000000</td>\n",
       "    </tr>\n",
       "    <tr>\n",
       "      <th>max</th>\n",
       "      <td>1.000000</td>\n",
       "      <td>1.000000</td>\n",
       "      <td>7.000000</td>\n",
       "      <td>310.000000</td>\n",
       "      <td>10.000000</td>\n",
       "      <td>1.000000</td>\n",
       "      <td>1.000000</td>\n",
       "      <td>1.000000</td>\n",
       "    </tr>\n",
       "  </tbody>\n",
       "</table>\n",
       "</div>"
      ],
      "text/plain": [
       "       tingkat_kepuasan  evaluasi_terakhir  jumlah_proyek  \\\n",
       "count      14999.000000       14999.000000   14999.000000   \n",
       "mean           0.612834           0.716102       3.803054   \n",
       "std            0.248631           0.171169       1.232592   \n",
       "min            0.090000           0.360000       2.000000   \n",
       "25%            0.440000           0.560000       3.000000   \n",
       "50%            0.640000           0.720000       4.000000   \n",
       "75%            0.820000           0.870000       5.000000   \n",
       "max            1.000000           1.000000       7.000000   \n",
       "\n",
       "       rata-rata_jam_bulan  waktu_spent_for_perusahaan  Kecelakaan_kerja  \\\n",
       "count         14999.000000                14999.000000      14999.000000   \n",
       "mean            201.050337                    3.498233          0.144610   \n",
       "std              49.943099                    1.460136          0.351719   \n",
       "min              96.000000                    2.000000          0.000000   \n",
       "25%             156.000000                    3.000000          0.000000   \n",
       "50%             200.000000                    3.000000          0.000000   \n",
       "75%             245.000000                    4.000000          0.000000   \n",
       "max             310.000000                   10.000000          1.000000   \n",
       "\n",
       "             resign  promosi_5tahun_terakhir  \n",
       "count  14999.000000             14999.000000  \n",
       "mean       0.238083                 0.021268  \n",
       "std        0.425924                 0.144281  \n",
       "min        0.000000                 0.000000  \n",
       "25%        0.000000                 0.000000  \n",
       "50%        0.000000                 0.000000  \n",
       "75%        0.000000                 0.000000  \n",
       "max        1.000000                 1.000000  "
      ]
     },
     "execution_count": 14,
     "metadata": {},
     "output_type": "execute_result"
    }
   ],
   "source": [
    "df.describe()"
   ]
  },
  {
   "cell_type": "code",
   "execution_count": 15,
   "id": "71795cce",
   "metadata": {},
   "outputs": [
    {
     "data": {
      "text/plain": [
       "tingkat_kepuasan              float64\n",
       "evaluasi_terakhir             float64\n",
       "jumlah_proyek                   int64\n",
       "rata-rata_jam_bulan             int64\n",
       "waktu_spent_for_perusahaan      int64\n",
       "Kecelakaan_kerja                int64\n",
       "resign                          int64\n",
       "promosi_5tahun_terakhir         int64\n",
       "Departemen                     object\n",
       "gaji                           object\n",
       "dtype: object"
      ]
     },
     "execution_count": 15,
     "metadata": {},
     "output_type": "execute_result"
    }
   ],
   "source": [
    "df.dtypes"
   ]
  },
  {
   "cell_type": "code",
   "execution_count": 16,
   "id": "05e0c8aa",
   "metadata": {},
   "outputs": [
    {
     "data": {
      "application/javascript": [
       "\n",
       "        if (window._pyforest_update_imports_cell) { window._pyforest_update_imports_cell('import numpy as np\\nimport pandas as pd'); }\n",
       "    "
      ],
      "text/plain": [
       "<IPython.core.display.Javascript object>"
      ]
     },
     "metadata": {},
     "output_type": "display_data"
    },
    {
     "name": "stdout",
     "output_type": "stream",
     "text": [
      "tingkat_kepuasan\n",
      "[0.38 0.8  0.11 0.72 0.37 0.41 0.1  0.92 0.89 0.42 0.45 0.84 0.36 0.78\n",
      " 0.76 0.09 0.46 0.4  0.82 0.87 0.57 0.43 0.13 0.44 0.39 0.85 0.81 0.9\n",
      " 0.74 0.79 0.17 0.24 0.91 0.71 0.86 0.14 0.75 0.7  0.31 0.73 0.83 0.32\n",
      " 0.54 0.27 0.77 0.88 0.48 0.19 0.6  0.12 0.61 0.33 0.56 0.47 0.28 0.55\n",
      " 0.53 0.59 0.66 0.25 0.34 0.58 0.51 0.35 0.64 0.5  0.23 0.15 0.49 0.3\n",
      " 0.63 0.21 0.62 0.29 0.2  0.16 0.65 0.68 0.67 0.22 0.26 0.99 0.98 1.\n",
      " 0.52 0.93 0.97 0.69 0.94 0.96 0.18 0.95]\n",
      "evaluasi_terakhir\n",
      "[0.53 0.86 0.88 0.87 0.52 0.5  0.77 0.85 1.   0.54 0.81 0.92 0.55 0.56\n",
      " 0.47 0.99 0.51 0.89 0.83 0.95 0.57 0.49 0.46 0.62 0.94 0.48 0.8  0.74\n",
      " 0.7  0.78 0.91 0.93 0.98 0.97 0.79 0.59 0.84 0.45 0.96 0.68 0.82 0.9\n",
      " 0.71 0.6  0.65 0.58 0.72 0.67 0.75 0.73 0.63 0.61 0.76 0.66 0.69 0.37\n",
      " 0.64 0.39 0.41 0.43 0.44 0.36 0.38 0.4  0.42]\n",
      "Departemen\n",
      "['sales' 'accounting' 'hr' 'technical' 'support' 'management' 'IT'\n",
      " 'product_mng' 'marketing' 'RandD']\n",
      "gaji\n",
      "['low' 'medium' 'high']\n"
     ]
    }
   ],
   "source": [
    "for x in df.columns[df.dtypes != np.int64]:\n",
    "    print(x)\n",
    "    print(df[x].unique())"
   ]
  },
  {
   "cell_type": "code",
   "execution_count": 17,
   "id": "aa452c25",
   "metadata": {},
   "outputs": [],
   "source": [
    "df2                = df.copy()\n",
    "df2                = df2.drop(columns=['Departemen', 'gaji'])"
   ]
  },
  {
   "cell_type": "markdown",
   "id": "7a68c46d",
   "metadata": {},
   "source": [
    "#### Outlier"
   ]
  },
  {
   "cell_type": "code",
   "execution_count": 18,
   "id": "2c5a09c4",
   "metadata": {},
   "outputs": [
    {
     "data": {
      "application/javascript": [
       "\n",
       "        if (window._pyforest_update_imports_cell) { window._pyforest_update_imports_cell('import seaborn as sns\\nimport numpy as np\\nimport pandas as pd'); }\n",
       "    "
      ],
      "text/plain": [
       "<IPython.core.display.Javascript object>"
      ]
     },
     "metadata": {},
     "output_type": "display_data"
    },
    {
     "data": {
      "application/javascript": [
       "\n",
       "        if (window._pyforest_update_imports_cell) { window._pyforest_update_imports_cell('import seaborn as sns\\nimport numpy as np\\nimport pandas as pd\\nimport matplotlib.pyplot as plt'); }\n",
       "    "
      ],
      "text/plain": [
       "<IPython.core.display.Javascript object>"
      ]
     },
     "metadata": {},
     "output_type": "display_data"
    },
    {
     "data": {
      "application/javascript": [
       "\n",
       "        if (window._pyforest_update_imports_cell) { window._pyforest_update_imports_cell('import seaborn as sns\\nimport numpy as np\\nimport pandas as pd\\nimport matplotlib.pyplot as plt'); }\n",
       "    "
      ],
      "text/plain": [
       "<IPython.core.display.Javascript object>"
      ]
     },
     "metadata": {},
     "output_type": "display_data"
    },
    {
     "data": {
      "application/javascript": [
       "\n",
       "        if (window._pyforest_update_imports_cell) { window._pyforest_update_imports_cell('import seaborn as sns\\nimport numpy as np\\nimport pandas as pd\\nimport matplotlib.pyplot as plt'); }\n",
       "    "
      ],
      "text/plain": [
       "<IPython.core.display.Javascript object>"
      ]
     },
     "metadata": {},
     "output_type": "display_data"
    },
    {
     "data": {
      "application/javascript": [
       "\n",
       "        if (window._pyforest_update_imports_cell) { window._pyforest_update_imports_cell('import seaborn as sns\\nimport numpy as np\\nimport pandas as pd\\nimport matplotlib.pyplot as plt'); }\n",
       "    "
      ],
      "text/plain": [
       "<IPython.core.display.Javascript object>"
      ]
     },
     "metadata": {},
     "output_type": "display_data"
    },
    {
     "data": {
      "application/javascript": [
       "\n",
       "        if (window._pyforest_update_imports_cell) { window._pyforest_update_imports_cell('import seaborn as sns\\nimport numpy as np\\nimport pandas as pd\\nimport matplotlib.pyplot as plt'); }\n",
       "    "
      ],
      "text/plain": [
       "<IPython.core.display.Javascript object>"
      ]
     },
     "metadata": {},
     "output_type": "display_data"
    },
    {
     "data": {
      "application/javascript": [
       "\n",
       "        if (window._pyforest_update_imports_cell) { window._pyforest_update_imports_cell('import seaborn as sns\\nimport numpy as np\\nimport pandas as pd\\nimport matplotlib.pyplot as plt'); }\n",
       "    "
      ],
      "text/plain": [
       "<IPython.core.display.Javascript object>"
      ]
     },
     "metadata": {},
     "output_type": "display_data"
    },
    {
     "data": {
      "application/javascript": [
       "\n",
       "        if (window._pyforest_update_imports_cell) { window._pyforest_update_imports_cell('import seaborn as sns\\nimport numpy as np\\nimport pandas as pd\\nimport matplotlib.pyplot as plt'); }\n",
       "    "
      ],
      "text/plain": [
       "<IPython.core.display.Javascript object>"
      ]
     },
     "metadata": {},
     "output_type": "display_data"
    },
    {
     "data": {
      "application/javascript": [
       "\n",
       "        if (window._pyforest_update_imports_cell) { window._pyforest_update_imports_cell('import seaborn as sns\\nimport numpy as np\\nimport pandas as pd\\nimport matplotlib.pyplot as plt'); }\n",
       "    "
      ],
      "text/plain": [
       "<IPython.core.display.Javascript object>"
      ]
     },
     "metadata": {},
     "output_type": "display_data"
    },
    {
     "data": {
      "application/javascript": [
       "\n",
       "        if (window._pyforest_update_imports_cell) { window._pyforest_update_imports_cell('import seaborn as sns\\nimport numpy as np\\nimport pandas as pd\\nimport matplotlib.pyplot as plt'); }\n",
       "    "
      ],
      "text/plain": [
       "<IPython.core.display.Javascript object>"
      ]
     },
     "metadata": {},
     "output_type": "display_data"
    },
    {
     "data": {
      "image/png": "[encoded data removed]",
      "text/plain": [
       "<Figure size 3000x4500 with 8 Axes>"
      ]
     },
     "metadata": {},
     "output_type": "display_data"
    }
   ],
   "source": [
    "num                = df2\n",
    "n                  = len(num.columns)\n",
    "rows               = n // 2\n",
    "cols               = 2\n",
    "sns.set(font_scale = 1)\n",
    "fig, ax            = plt.subplots(rows, cols, figsize=(30, 45))\n",
    "\n",
    "for i in range(rows):\n",
    "    \n",
    "    for j in range(cols):\n",
    "        \n",
    "        index      = i * cols + j\n",
    "        if index   < n:\n",
    "            col    = num.columns[index]\n",
    "            sns.boxplot(ax=ax[i, j],\n",
    "                        data=num,\n",
    "                        y=num[col],\n",
    "                        width=0.50)\n",
    "            \n",
    "            ax[i, j].set_title(f'Kolom {col}', fontdict={'fontsize': 20})"
   ]
  },
  {
   "cell_type": "markdown",
   "id": "1386e8dc",
   "metadata": {},
   "source": [
    "Sepertinya tidak ada outlier yang signifikan atau perlu ditangani. Seperti kolom waktu_spent_for_perusahaan mungkin datanya yang terkesan ada sedikit outlier itu masih dibutuhkan ya. Karena menunjukkan semakin lama dia betah di suatu perusahaan."
   ]
  },
  {
   "cell_type": "code",
   "execution_count": 19,
   "id": "c726f196",
   "metadata": {},
   "outputs": [
    {
     "data": {
      "text/html": [
       "<div>\n",
       "<style scoped>\n",
       "    .dataframe tbody tr th:only-of-type {\n",
       "        vertical-align: middle;\n",
       "    }\n",
       "\n",
       "    .dataframe tbody tr th {\n",
       "        vertical-align: top;\n",
       "    }\n",
       "\n",
       "    .dataframe thead th {\n",
       "        text-align: right;\n",
       "    }\n",
       "</style>\n",
       "<table border=\"1\" class=\"dataframe\">\n",
       "  <thead>\n",
       "    <tr style=\"text-align: right;\">\n",
       "      <th></th>\n",
       "      <th>tingkat_kepuasan</th>\n",
       "      <th>evaluasi_terakhir</th>\n",
       "      <th>jumlah_proyek</th>\n",
       "      <th>rata-rata_jam_bulan</th>\n",
       "      <th>waktu_spent_for_perusahaan</th>\n",
       "      <th>Kecelakaan_kerja</th>\n",
       "      <th>resign</th>\n",
       "      <th>promosi_5tahun_terakhir</th>\n",
       "      <th>Departemen</th>\n",
       "      <th>gaji</th>\n",
       "    </tr>\n",
       "  </thead>\n",
       "  <tbody>\n",
       "    <tr>\n",
       "      <th>0</th>\n",
       "      <td>0.38</td>\n",
       "      <td>0.53</td>\n",
       "      <td>2</td>\n",
       "      <td>157</td>\n",
       "      <td>3</td>\n",
       "      <td>0</td>\n",
       "      <td>1</td>\n",
       "      <td>0</td>\n",
       "      <td>sales</td>\n",
       "      <td>low</td>\n",
       "    </tr>\n",
       "    <tr>\n",
       "      <th>1</th>\n",
       "      <td>0.80</td>\n",
       "      <td>0.86</td>\n",
       "      <td>5</td>\n",
       "      <td>262</td>\n",
       "      <td>6</td>\n",
       "      <td>0</td>\n",
       "      <td>1</td>\n",
       "      <td>0</td>\n",
       "      <td>sales</td>\n",
       "      <td>medium</td>\n",
       "    </tr>\n",
       "    <tr>\n",
       "      <th>2</th>\n",
       "      <td>0.11</td>\n",
       "      <td>0.88</td>\n",
       "      <td>7</td>\n",
       "      <td>272</td>\n",
       "      <td>4</td>\n",
       "      <td>0</td>\n",
       "      <td>1</td>\n",
       "      <td>0</td>\n",
       "      <td>sales</td>\n",
       "      <td>medium</td>\n",
       "    </tr>\n",
       "    <tr>\n",
       "      <th>3</th>\n",
       "      <td>0.72</td>\n",
       "      <td>0.87</td>\n",
       "      <td>5</td>\n",
       "      <td>223</td>\n",
       "      <td>5</td>\n",
       "      <td>0</td>\n",
       "      <td>1</td>\n",
       "      <td>0</td>\n",
       "      <td>sales</td>\n",
       "      <td>low</td>\n",
       "    </tr>\n",
       "    <tr>\n",
       "      <th>4</th>\n",
       "      <td>0.37</td>\n",
       "      <td>0.52</td>\n",
       "      <td>2</td>\n",
       "      <td>159</td>\n",
       "      <td>3</td>\n",
       "      <td>0</td>\n",
       "      <td>1</td>\n",
       "      <td>0</td>\n",
       "      <td>sales</td>\n",
       "      <td>low</td>\n",
       "    </tr>\n",
       "    <tr>\n",
       "      <th>...</th>\n",
       "      <td>...</td>\n",
       "      <td>...</td>\n",
       "      <td>...</td>\n",
       "      <td>...</td>\n",
       "      <td>...</td>\n",
       "      <td>...</td>\n",
       "      <td>...</td>\n",
       "      <td>...</td>\n",
       "      <td>...</td>\n",
       "      <td>...</td>\n",
       "    </tr>\n",
       "    <tr>\n",
       "      <th>14994</th>\n",
       "      <td>0.40</td>\n",
       "      <td>0.57</td>\n",
       "      <td>2</td>\n",
       "      <td>151</td>\n",
       "      <td>3</td>\n",
       "      <td>0</td>\n",
       "      <td>1</td>\n",
       "      <td>0</td>\n",
       "      <td>support</td>\n",
       "      <td>low</td>\n",
       "    </tr>\n",
       "    <tr>\n",
       "      <th>14995</th>\n",
       "      <td>0.37</td>\n",
       "      <td>0.48</td>\n",
       "      <td>2</td>\n",
       "      <td>160</td>\n",
       "      <td>3</td>\n",
       "      <td>0</td>\n",
       "      <td>1</td>\n",
       "      <td>0</td>\n",
       "      <td>support</td>\n",
       "      <td>low</td>\n",
       "    </tr>\n",
       "    <tr>\n",
       "      <th>14996</th>\n",
       "      <td>0.37</td>\n",
       "      <td>0.53</td>\n",
       "      <td>2</td>\n",
       "      <td>143</td>\n",
       "      <td>3</td>\n",
       "      <td>0</td>\n",
       "      <td>1</td>\n",
       "      <td>0</td>\n",
       "      <td>support</td>\n",
       "      <td>low</td>\n",
       "    </tr>\n",
       "    <tr>\n",
       "      <th>14997</th>\n",
       "      <td>0.11</td>\n",
       "      <td>0.96</td>\n",
       "      <td>6</td>\n",
       "      <td>280</td>\n",
       "      <td>4</td>\n",
       "      <td>0</td>\n",
       "      <td>1</td>\n",
       "      <td>0</td>\n",
       "      <td>support</td>\n",
       "      <td>low</td>\n",
       "    </tr>\n",
       "    <tr>\n",
       "      <th>14998</th>\n",
       "      <td>0.37</td>\n",
       "      <td>0.52</td>\n",
       "      <td>2</td>\n",
       "      <td>158</td>\n",
       "      <td>3</td>\n",
       "      <td>0</td>\n",
       "      <td>1</td>\n",
       "      <td>0</td>\n",
       "      <td>support</td>\n",
       "      <td>low</td>\n",
       "    </tr>\n",
       "  </tbody>\n",
       "</table>\n",
       "<p>14999 rows × 10 columns</p>\n",
       "</div>"
      ],
      "text/plain": [
       "       tingkat_kepuasan  evaluasi_terakhir  jumlah_proyek  \\\n",
       "0                  0.38               0.53              2   \n",
       "1                  0.80               0.86              5   \n",
       "2                  0.11               0.88              7   \n",
       "3                  0.72               0.87              5   \n",
       "4                  0.37               0.52              2   \n",
       "...                 ...                ...            ...   \n",
       "14994              0.40               0.57              2   \n",
       "14995              0.37               0.48              2   \n",
       "14996              0.37               0.53              2   \n",
       "14997              0.11               0.96              6   \n",
       "14998              0.37               0.52              2   \n",
       "\n",
       "       rata-rata_jam_bulan  waktu_spent_for_perusahaan  Kecelakaan_kerja  \\\n",
       "0                      157                           3                 0   \n",
       "1                      262                           6                 0   \n",
       "2                      272                           4                 0   \n",
       "3                      223                           5                 0   \n",
       "4                      159                           3                 0   \n",
       "...                    ...                         ...               ...   \n",
       "14994                  151                           3                 0   \n",
       "14995                  160                           3                 0   \n",
       "14996                  143                           3                 0   \n",
       "14997                  280                           4                 0   \n",
       "14998                  158                           3                 0   \n",
       "\n",
       "       resign  promosi_5tahun_terakhir Departemen    gaji  \n",
       "0           1                        0      sales     low  \n",
       "1           1                        0      sales  medium  \n",
       "2           1                        0      sales  medium  \n",
       "3           1                        0      sales     low  \n",
       "4           1                        0      sales     low  \n",
       "...       ...                      ...        ...     ...  \n",
       "14994       1                        0    support     low  \n",
       "14995       1                        0    support     low  \n",
       "14996       1                        0    support     low  \n",
       "14997       1                        0    support     low  \n",
       "14998       1                        0    support     low  \n",
       "\n",
       "[14999 rows x 10 columns]"
      ]
     },
     "execution_count": 19,
     "metadata": {},
     "output_type": "execute_result"
    }
   ],
   "source": [
    "df3 = df.copy()\n",
    "df3"
   ]
  },
  {
   "cell_type": "code",
   "execution_count": 20,
   "id": "d18d79bf",
   "metadata": {},
   "outputs": [],
   "source": [
    "gaji_mapping = {'low': 0, 'medium': 1, 'high': 2}\n",
    "df3['gaji']  = df3['gaji'].map(gaji_mapping)"
   ]
  },
  {
   "cell_type": "code",
   "execution_count": 21,
   "id": "0e512702",
   "metadata": {},
   "outputs": [
    {
     "data": {
      "text/plain": [
       "array([0, 1, 2], dtype=int64)"
      ]
     },
     "execution_count": 21,
     "metadata": {},
     "output_type": "execute_result"
    }
   ],
   "source": [
    "df3['gaji'].unique()"
   ]
  },
  {
   "cell_type": "code",
   "execution_count": 22,
   "id": "6d96685e",
   "metadata": {},
   "outputs": [
    {
     "data": {
      "text/html": [
       "<div>\n",
       "<style scoped>\n",
       "    .dataframe tbody tr th:only-of-type {\n",
       "        vertical-align: middle;\n",
       "    }\n",
       "\n",
       "    .dataframe tbody tr th {\n",
       "        vertical-align: top;\n",
       "    }\n",
       "\n",
       "    .dataframe thead th {\n",
       "        text-align: right;\n",
       "    }\n",
       "</style>\n",
       "<table border=\"1\" class=\"dataframe\">\n",
       "  <thead>\n",
       "    <tr style=\"text-align: right;\">\n",
       "      <th></th>\n",
       "      <th>tingkat_kepuasan</th>\n",
       "      <th>evaluasi_terakhir</th>\n",
       "      <th>jumlah_proyek</th>\n",
       "      <th>rata-rata_jam_bulan</th>\n",
       "      <th>waktu_spent_for_perusahaan</th>\n",
       "      <th>Kecelakaan_kerja</th>\n",
       "      <th>resign</th>\n",
       "      <th>promosi_5tahun_terakhir</th>\n",
       "      <th>Departemen</th>\n",
       "      <th>gaji</th>\n",
       "    </tr>\n",
       "  </thead>\n",
       "  <tbody>\n",
       "    <tr>\n",
       "      <th>0</th>\n",
       "      <td>0.38</td>\n",
       "      <td>0.53</td>\n",
       "      <td>2</td>\n",
       "      <td>157</td>\n",
       "      <td>3</td>\n",
       "      <td>0</td>\n",
       "      <td>1</td>\n",
       "      <td>0</td>\n",
       "      <td>sales</td>\n",
       "      <td>0</td>\n",
       "    </tr>\n",
       "    <tr>\n",
       "      <th>1</th>\n",
       "      <td>0.80</td>\n",
       "      <td>0.86</td>\n",
       "      <td>5</td>\n",
       "      <td>262</td>\n",
       "      <td>6</td>\n",
       "      <td>0</td>\n",
       "      <td>1</td>\n",
       "      <td>0</td>\n",
       "      <td>sales</td>\n",
       "      <td>1</td>\n",
       "    </tr>\n",
       "    <tr>\n",
       "      <th>2</th>\n",
       "      <td>0.11</td>\n",
       "      <td>0.88</td>\n",
       "      <td>7</td>\n",
       "      <td>272</td>\n",
       "      <td>4</td>\n",
       "      <td>0</td>\n",
       "      <td>1</td>\n",
       "      <td>0</td>\n",
       "      <td>sales</td>\n",
       "      <td>1</td>\n",
       "    </tr>\n",
       "    <tr>\n",
       "      <th>3</th>\n",
       "      <td>0.72</td>\n",
       "      <td>0.87</td>\n",
       "      <td>5</td>\n",
       "      <td>223</td>\n",
       "      <td>5</td>\n",
       "      <td>0</td>\n",
       "      <td>1</td>\n",
       "      <td>0</td>\n",
       "      <td>sales</td>\n",
       "      <td>0</td>\n",
       "    </tr>\n",
       "    <tr>\n",
       "      <th>4</th>\n",
       "      <td>0.37</td>\n",
       "      <td>0.52</td>\n",
       "      <td>2</td>\n",
       "      <td>159</td>\n",
       "      <td>3</td>\n",
       "      <td>0</td>\n",
       "      <td>1</td>\n",
       "      <td>0</td>\n",
       "      <td>sales</td>\n",
       "      <td>0</td>\n",
       "    </tr>\n",
       "    <tr>\n",
       "      <th>...</th>\n",
       "      <td>...</td>\n",
       "      <td>...</td>\n",
       "      <td>...</td>\n",
       "      <td>...</td>\n",
       "      <td>...</td>\n",
       "      <td>...</td>\n",
       "      <td>...</td>\n",
       "      <td>...</td>\n",
       "      <td>...</td>\n",
       "      <td>...</td>\n",
       "    </tr>\n",
       "    <tr>\n",
       "      <th>14994</th>\n",
       "      <td>0.40</td>\n",
       "      <td>0.57</td>\n",
       "      <td>2</td>\n",
       "      <td>151</td>\n",
       "      <td>3</td>\n",
       "      <td>0</td>\n",
       "      <td>1</td>\n",
       "      <td>0</td>\n",
       "      <td>support</td>\n",
       "      <td>0</td>\n",
       "    </tr>\n",
       "    <tr>\n",
       "      <th>14995</th>\n",
       "      <td>0.37</td>\n",
       "      <td>0.48</td>\n",
       "      <td>2</td>\n",
       "      <td>160</td>\n",
       "      <td>3</td>\n",
       "      <td>0</td>\n",
       "      <td>1</td>\n",
       "      <td>0</td>\n",
       "      <td>support</td>\n",
       "      <td>0</td>\n",
       "    </tr>\n",
       "    <tr>\n",
       "      <th>14996</th>\n",
       "      <td>0.37</td>\n",
       "      <td>0.53</td>\n",
       "      <td>2</td>\n",
       "      <td>143</td>\n",
       "      <td>3</td>\n",
       "      <td>0</td>\n",
       "      <td>1</td>\n",
       "      <td>0</td>\n",
       "      <td>support</td>\n",
       "      <td>0</td>\n",
       "    </tr>\n",
       "    <tr>\n",
       "      <th>14997</th>\n",
       "      <td>0.11</td>\n",
       "      <td>0.96</td>\n",
       "      <td>6</td>\n",
       "      <td>280</td>\n",
       "      <td>4</td>\n",
       "      <td>0</td>\n",
       "      <td>1</td>\n",
       "      <td>0</td>\n",
       "      <td>support</td>\n",
       "      <td>0</td>\n",
       "    </tr>\n",
       "    <tr>\n",
       "      <th>14998</th>\n",
       "      <td>0.37</td>\n",
       "      <td>0.52</td>\n",
       "      <td>2</td>\n",
       "      <td>158</td>\n",
       "      <td>3</td>\n",
       "      <td>0</td>\n",
       "      <td>1</td>\n",
       "      <td>0</td>\n",
       "      <td>support</td>\n",
       "      <td>0</td>\n",
       "    </tr>\n",
       "  </tbody>\n",
       "</table>\n",
       "<p>14999 rows × 10 columns</p>\n",
       "</div>"
      ],
      "text/plain": [
       "       tingkat_kepuasan  evaluasi_terakhir  jumlah_proyek  \\\n",
       "0                  0.38               0.53              2   \n",
       "1                  0.80               0.86              5   \n",
       "2                  0.11               0.88              7   \n",
       "3                  0.72               0.87              5   \n",
       "4                  0.37               0.52              2   \n",
       "...                 ...                ...            ...   \n",
       "14994              0.40               0.57              2   \n",
       "14995              0.37               0.48              2   \n",
       "14996              0.37               0.53              2   \n",
       "14997              0.11               0.96              6   \n",
       "14998              0.37               0.52              2   \n",
       "\n",
       "       rata-rata_jam_bulan  waktu_spent_for_perusahaan  Kecelakaan_kerja  \\\n",
       "0                      157                           3                 0   \n",
       "1                      262                           6                 0   \n",
       "2                      272                           4                 0   \n",
       "3                      223                           5                 0   \n",
       "4                      159                           3                 0   \n",
       "...                    ...                         ...               ...   \n",
       "14994                  151                           3                 0   \n",
       "14995                  160                           3                 0   \n",
       "14996                  143                           3                 0   \n",
       "14997                  280                           4                 0   \n",
       "14998                  158                           3                 0   \n",
       "\n",
       "       resign  promosi_5tahun_terakhir Departemen  gaji  \n",
       "0           1                        0      sales     0  \n",
       "1           1                        0      sales     1  \n",
       "2           1                        0      sales     1  \n",
       "3           1                        0      sales     0  \n",
       "4           1                        0      sales     0  \n",
       "...       ...                      ...        ...   ...  \n",
       "14994       1                        0    support     0  \n",
       "14995       1                        0    support     0  \n",
       "14996       1                        0    support     0  \n",
       "14997       1                        0    support     0  \n",
       "14998       1                        0    support     0  \n",
       "\n",
       "[14999 rows x 10 columns]"
      ]
     },
     "execution_count": 22,
     "metadata": {},
     "output_type": "execute_result"
    }
   ],
   "source": [
    "df3"
   ]
  },
  {
   "cell_type": "code",
   "execution_count": 23,
   "id": "e6f1d584",
   "metadata": {},
   "outputs": [],
   "source": [
    "df4 = df3.drop(columns=['Departemen'])"
   ]
  },
  {
   "cell_type": "code",
   "execution_count": 24,
   "id": "daeffb78",
   "metadata": {},
   "outputs": [
    {
     "data": {
      "application/javascript": [
       "\n",
       "        if (window._pyforest_update_imports_cell) { window._pyforest_update_imports_cell('import seaborn as sns\\nimport numpy as np\\nimport pandas as pd\\nimport matplotlib.pyplot as plt'); }\n",
       "    "
      ],
      "text/plain": [
       "<IPython.core.display.Javascript object>"
      ]
     },
     "metadata": {},
     "output_type": "display_data"
    },
    {
     "data": {
      "application/javascript": [
       "\n",
       "        if (window._pyforest_update_imports_cell) { window._pyforest_update_imports_cell('import seaborn as sns\\nimport numpy as np\\nimport pandas as pd\\nimport matplotlib.pyplot as plt'); }\n",
       "    "
      ],
      "text/plain": [
       "<IPython.core.display.Javascript object>"
      ]
     },
     "metadata": {},
     "output_type": "display_data"
    },
    {
     "data": {
      "application/javascript": [
       "\n",
       "        if (window._pyforest_update_imports_cell) { window._pyforest_update_imports_cell('import seaborn as sns\\nimport numpy as np\\nimport pandas as pd\\nimport matplotlib.pyplot as plt'); }\n",
       "    "
      ],
      "text/plain": [
       "<IPython.core.display.Javascript object>"
      ]
     },
     "metadata": {},
     "output_type": "display_data"
    },
    {
     "data": {
      "application/javascript": [
       "\n",
       "        if (window._pyforest_update_imports_cell) { window._pyforest_update_imports_cell('import seaborn as sns\\nimport numpy as np\\nimport pandas as pd\\nimport matplotlib.pyplot as plt'); }\n",
       "    "
      ],
      "text/plain": [
       "<IPython.core.display.Javascript object>"
      ]
     },
     "metadata": {},
     "output_type": "display_data"
    },
    {
     "data": {
      "application/javascript": [
       "\n",
       "        if (window._pyforest_update_imports_cell) { window._pyforest_update_imports_cell('import seaborn as sns\\nimport numpy as np\\nimport pandas as pd\\nimport matplotlib.pyplot as plt'); }\n",
       "    "
      ],
      "text/plain": [
       "<IPython.core.display.Javascript object>"
      ]
     },
     "metadata": {},
     "output_type": "display_data"
    },
    {
     "data": {
      "application/javascript": [
       "\n",
       "        if (window._pyforest_update_imports_cell) { window._pyforest_update_imports_cell('import seaborn as sns\\nimport numpy as np\\nimport pandas as pd\\nimport matplotlib.pyplot as plt'); }\n",
       "    "
      ],
      "text/plain": [
       "<IPython.core.display.Javascript object>"
      ]
     },
     "metadata": {},
     "output_type": "display_data"
    },
    {
     "data": {
      "application/javascript": [
       "\n",
       "        if (window._pyforest_update_imports_cell) { window._pyforest_update_imports_cell('import seaborn as sns\\nimport numpy as np\\nimport pandas as pd\\nimport matplotlib.pyplot as plt'); }\n",
       "    "
      ],
      "text/plain": [
       "<IPython.core.display.Javascript object>"
      ]
     },
     "metadata": {},
     "output_type": "display_data"
    },
    {
     "data": {
      "application/javascript": [
       "\n",
       "        if (window._pyforest_update_imports_cell) { window._pyforest_update_imports_cell('import seaborn as sns\\nimport numpy as np\\nimport pandas as pd\\nimport matplotlib.pyplot as plt'); }\n",
       "    "
      ],
      "text/plain": [
       "<IPython.core.display.Javascript object>"
      ]
     },
     "metadata": {},
     "output_type": "display_data"
    },
    {
     "data": {
      "image/png": "[encoded data removed]",
      "text/plain": [
       "<Figure size 2000x2000 with 2 Axes>"
      ]
     },
     "metadata": {},
     "output_type": "display_data"
    }
   ],
   "source": [
    "# viz\n",
    "sns.set(font_scale=1)\n",
    "plt.figure(figsize=(20, 20))\n",
    "sns.set_style(\"white\")\n",
    "cmap = sns.light_palette(\"green\", as_cmap=True)\n",
    "\n",
    "mask = np.triu(np.ones_like(df4.corr(), dtype=bool))\n",
    "\n",
    "sns.heatmap(df4.corr(),\n",
    "            annot=True,\n",
    "            cmap=cmap,\n",
    "            fmt='.2f',\n",
    "            mask=mask)\n",
    "\n",
    "plt.show()"
   ]
  },
  {
   "cell_type": "markdown",
   "id": "bdef36e6",
   "metadata": {},
   "source": [
    "Hubungan antara jumlah_proyek dan rata-rata_jam_bulan terhadap evaluasi_terakhir memiliki korelasi yang cukup baik. Hal ini berarti nilai skor evaluasi karyawan itu dipengaruhi oleh jumlah proyek yang dijalani dan berapa lama waktu dihabiskan.\n",
    "\n",
    "Selain itu rata-rata_jam_bulan juga memiliki korelasi yang bagus terhadap jumlah_proyek.\n",
    "\n",
    "semua fitur diatas sangat diperlukan untuk mencari atau mengelompokkan (cluster). Namun jika untuk modelling terhadap variabel target **resign** mungkin fitur seperti:\n",
    "- waktu_spent_for_perusahaan\n",
    "- jumlah_proyek\n",
    "- rata-rata_jam_bulan\n",
    "- evaluasi_terakhir\n",
    "- kecelakaan kerja"
   ]
  },
  {
   "cell_type": "code",
   "execution_count": 26,
   "id": "4e354be4",
   "metadata": {},
   "outputs": [
    {
     "data": {
      "text/html": [
       "<div>\n",
       "<style scoped>\n",
       "    .dataframe tbody tr th:only-of-type {\n",
       "        vertical-align: middle;\n",
       "    }\n",
       "\n",
       "    .dataframe tbody tr th {\n",
       "        vertical-align: top;\n",
       "    }\n",
       "\n",
       "    .dataframe thead th {\n",
       "        text-align: right;\n",
       "    }\n",
       "</style>\n",
       "<table border=\"1\" class=\"dataframe\">\n",
       "  <thead>\n",
       "    <tr style=\"text-align: right;\">\n",
       "      <th></th>\n",
       "      <th>tingkat_kepuasan</th>\n",
       "      <th>evaluasi_terakhir</th>\n",
       "      <th>jumlah_proyek</th>\n",
       "      <th>rata-rata_jam_bulan</th>\n",
       "      <th>waktu_spent_for_perusahaan</th>\n",
       "      <th>Kecelakaan_kerja</th>\n",
       "      <th>resign</th>\n",
       "      <th>promosi_5tahun_terakhir</th>\n",
       "      <th>Departemen</th>\n",
       "      <th>gaji</th>\n",
       "    </tr>\n",
       "  </thead>\n",
       "  <tbody>\n",
       "    <tr>\n",
       "      <th>0</th>\n",
       "      <td>0.38</td>\n",
       "      <td>0.53</td>\n",
       "      <td>2</td>\n",
       "      <td>157</td>\n",
       "      <td>3</td>\n",
       "      <td>0</td>\n",
       "      <td>1</td>\n",
       "      <td>0</td>\n",
       "      <td>sales</td>\n",
       "      <td>0</td>\n",
       "    </tr>\n",
       "    <tr>\n",
       "      <th>1</th>\n",
       "      <td>0.80</td>\n",
       "      <td>0.86</td>\n",
       "      <td>5</td>\n",
       "      <td>262</td>\n",
       "      <td>6</td>\n",
       "      <td>0</td>\n",
       "      <td>1</td>\n",
       "      <td>0</td>\n",
       "      <td>sales</td>\n",
       "      <td>1</td>\n",
       "    </tr>\n",
       "    <tr>\n",
       "      <th>2</th>\n",
       "      <td>0.11</td>\n",
       "      <td>0.88</td>\n",
       "      <td>7</td>\n",
       "      <td>272</td>\n",
       "      <td>4</td>\n",
       "      <td>0</td>\n",
       "      <td>1</td>\n",
       "      <td>0</td>\n",
       "      <td>sales</td>\n",
       "      <td>1</td>\n",
       "    </tr>\n",
       "    <tr>\n",
       "      <th>3</th>\n",
       "      <td>0.72</td>\n",
       "      <td>0.87</td>\n",
       "      <td>5</td>\n",
       "      <td>223</td>\n",
       "      <td>5</td>\n",
       "      <td>0</td>\n",
       "      <td>1</td>\n",
       "      <td>0</td>\n",
       "      <td>sales</td>\n",
       "      <td>0</td>\n",
       "    </tr>\n",
       "    <tr>\n",
       "      <th>4</th>\n",
       "      <td>0.37</td>\n",
       "      <td>0.52</td>\n",
       "      <td>2</td>\n",
       "      <td>159</td>\n",
       "      <td>3</td>\n",
       "      <td>0</td>\n",
       "      <td>1</td>\n",
       "      <td>0</td>\n",
       "      <td>sales</td>\n",
       "      <td>0</td>\n",
       "    </tr>\n",
       "    <tr>\n",
       "      <th>...</th>\n",
       "      <td>...</td>\n",
       "      <td>...</td>\n",
       "      <td>...</td>\n",
       "      <td>...</td>\n",
       "      <td>...</td>\n",
       "      <td>...</td>\n",
       "      <td>...</td>\n",
       "      <td>...</td>\n",
       "      <td>...</td>\n",
       "      <td>...</td>\n",
       "    </tr>\n",
       "    <tr>\n",
       "      <th>14994</th>\n",
       "      <td>0.40</td>\n",
       "      <td>0.57</td>\n",
       "      <td>2</td>\n",
       "      <td>151</td>\n",
       "      <td>3</td>\n",
       "      <td>0</td>\n",
       "      <td>1</td>\n",
       "      <td>0</td>\n",
       "      <td>support</td>\n",
       "      <td>0</td>\n",
       "    </tr>\n",
       "    <tr>\n",
       "      <th>14995</th>\n",
       "      <td>0.37</td>\n",
       "      <td>0.48</td>\n",
       "      <td>2</td>\n",
       "      <td>160</td>\n",
       "      <td>3</td>\n",
       "      <td>0</td>\n",
       "      <td>1</td>\n",
       "      <td>0</td>\n",
       "      <td>support</td>\n",
       "      <td>0</td>\n",
       "    </tr>\n",
       "    <tr>\n",
       "      <th>14996</th>\n",
       "      <td>0.37</td>\n",
       "      <td>0.53</td>\n",
       "      <td>2</td>\n",
       "      <td>143</td>\n",
       "      <td>3</td>\n",
       "      <td>0</td>\n",
       "      <td>1</td>\n",
       "      <td>0</td>\n",
       "      <td>support</td>\n",
       "      <td>0</td>\n",
       "    </tr>\n",
       "    <tr>\n",
       "      <th>14997</th>\n",
       "      <td>0.11</td>\n",
       "      <td>0.96</td>\n",
       "      <td>6</td>\n",
       "      <td>280</td>\n",
       "      <td>4</td>\n",
       "      <td>0</td>\n",
       "      <td>1</td>\n",
       "      <td>0</td>\n",
       "      <td>support</td>\n",
       "      <td>0</td>\n",
       "    </tr>\n",
       "    <tr>\n",
       "      <th>14998</th>\n",
       "      <td>0.37</td>\n",
       "      <td>0.52</td>\n",
       "      <td>2</td>\n",
       "      <td>158</td>\n",
       "      <td>3</td>\n",
       "      <td>0</td>\n",
       "      <td>1</td>\n",
       "      <td>0</td>\n",
       "      <td>support</td>\n",
       "      <td>0</td>\n",
       "    </tr>\n",
       "  </tbody>\n",
       "</table>\n",
       "<p>14999 rows × 10 columns</p>\n",
       "</div>"
      ],
      "text/plain": [
       "       tingkat_kepuasan  evaluasi_terakhir  jumlah_proyek  \\\n",
       "0                  0.38               0.53              2   \n",
       "1                  0.80               0.86              5   \n",
       "2                  0.11               0.88              7   \n",
       "3                  0.72               0.87              5   \n",
       "4                  0.37               0.52              2   \n",
       "...                 ...                ...            ...   \n",
       "14994              0.40               0.57              2   \n",
       "14995              0.37               0.48              2   \n",
       "14996              0.37               0.53              2   \n",
       "14997              0.11               0.96              6   \n",
       "14998              0.37               0.52              2   \n",
       "\n",
       "       rata-rata_jam_bulan  waktu_spent_for_perusahaan  Kecelakaan_kerja  \\\n",
       "0                      157                           3                 0   \n",
       "1                      262                           6                 0   \n",
       "2                      272                           4                 0   \n",
       "3                      223                           5                 0   \n",
       "4                      159                           3                 0   \n",
       "...                    ...                         ...               ...   \n",
       "14994                  151                           3                 0   \n",
       "14995                  160                           3                 0   \n",
       "14996                  143                           3                 0   \n",
       "14997                  280                           4                 0   \n",
       "14998                  158                           3                 0   \n",
       "\n",
       "       resign  promosi_5tahun_terakhir Departemen  gaji  \n",
       "0           1                        0      sales     0  \n",
       "1           1                        0      sales     1  \n",
       "2           1                        0      sales     1  \n",
       "3           1                        0      sales     0  \n",
       "4           1                        0      sales     0  \n",
       "...       ...                      ...        ...   ...  \n",
       "14994       1                        0    support     0  \n",
       "14995       1                        0    support     0  \n",
       "14996       1                        0    support     0  \n",
       "14997       1                        0    support     0  \n",
       "14998       1                        0    support     0  \n",
       "\n",
       "[14999 rows x 10 columns]"
      ]
     },
     "execution_count": 26,
     "metadata": {},
     "output_type": "execute_result"
    }
   ],
   "source": [
    "df3"
   ]
  },
  {
   "cell_type": "code",
   "execution_count": 27,
   "id": "3b594eab",
   "metadata": {},
   "outputs": [
    {
     "data": {
      "text/plain": [
       "array(['sales', 'accounting', 'hr', 'technical', 'support', 'management',\n",
       "       'IT', 'product_mng', 'marketing', 'RandD'], dtype=object)"
      ]
     },
     "execution_count": 27,
     "metadata": {},
     "output_type": "execute_result"
    }
   ],
   "source": [
    "df3['Departemen'].unique()"
   ]
  },
  {
   "cell_type": "code",
   "execution_count": 28,
   "id": "cfd76f7a",
   "metadata": {},
   "outputs": [],
   "source": [
    "df_depar     = df.copy()\n",
    "df_depar     = df_depar['Departemen']"
   ]
  },
  {
   "cell_type": "code",
   "execution_count": 29,
   "id": "4d17d5b1",
   "metadata": {},
   "outputs": [
    {
     "data": {
      "application/javascript": [
       "\n",
       "        if (window._pyforest_update_imports_cell) { window._pyforest_update_imports_cell('import seaborn as sns\\nimport numpy as np\\nimport pandas as pd\\nimport matplotlib.pyplot as plt'); }\n",
       "    "
      ],
      "text/plain": [
       "<IPython.core.display.Javascript object>"
      ]
     },
     "metadata": {},
     "output_type": "display_data"
    },
    {
     "data": {
      "text/html": [
       "<div>\n",
       "<style scoped>\n",
       "    .dataframe tbody tr th:only-of-type {\n",
       "        vertical-align: middle;\n",
       "    }\n",
       "\n",
       "    .dataframe tbody tr th {\n",
       "        vertical-align: top;\n",
       "    }\n",
       "\n",
       "    .dataframe thead th {\n",
       "        text-align: right;\n",
       "    }\n",
       "</style>\n",
       "<table border=\"1\" class=\"dataframe\">\n",
       "  <thead>\n",
       "    <tr style=\"text-align: right;\">\n",
       "      <th></th>\n",
       "      <th>IT</th>\n",
       "      <th>RandD</th>\n",
       "      <th>accounting</th>\n",
       "      <th>hr</th>\n",
       "      <th>management</th>\n",
       "      <th>marketing</th>\n",
       "      <th>product_mng</th>\n",
       "      <th>sales</th>\n",
       "      <th>support</th>\n",
       "      <th>technical</th>\n",
       "    </tr>\n",
       "  </thead>\n",
       "  <tbody>\n",
       "    <tr>\n",
       "      <th>0</th>\n",
       "      <td>0</td>\n",
       "      <td>0</td>\n",
       "      <td>0</td>\n",
       "      <td>0</td>\n",
       "      <td>0</td>\n",
       "      <td>0</td>\n",
       "      <td>0</td>\n",
       "      <td>1</td>\n",
       "      <td>0</td>\n",
       "      <td>0</td>\n",
       "    </tr>\n",
       "    <tr>\n",
       "      <th>1</th>\n",
       "      <td>0</td>\n",
       "      <td>0</td>\n",
       "      <td>0</td>\n",
       "      <td>0</td>\n",
       "      <td>0</td>\n",
       "      <td>0</td>\n",
       "      <td>0</td>\n",
       "      <td>1</td>\n",
       "      <td>0</td>\n",
       "      <td>0</td>\n",
       "    </tr>\n",
       "    <tr>\n",
       "      <th>2</th>\n",
       "      <td>0</td>\n",
       "      <td>0</td>\n",
       "      <td>0</td>\n",
       "      <td>0</td>\n",
       "      <td>0</td>\n",
       "      <td>0</td>\n",
       "      <td>0</td>\n",
       "      <td>1</td>\n",
       "      <td>0</td>\n",
       "      <td>0</td>\n",
       "    </tr>\n",
       "    <tr>\n",
       "      <th>3</th>\n",
       "      <td>0</td>\n",
       "      <td>0</td>\n",
       "      <td>0</td>\n",
       "      <td>0</td>\n",
       "      <td>0</td>\n",
       "      <td>0</td>\n",
       "      <td>0</td>\n",
       "      <td>1</td>\n",
       "      <td>0</td>\n",
       "      <td>0</td>\n",
       "    </tr>\n",
       "    <tr>\n",
       "      <th>4</th>\n",
       "      <td>0</td>\n",
       "      <td>0</td>\n",
       "      <td>0</td>\n",
       "      <td>0</td>\n",
       "      <td>0</td>\n",
       "      <td>0</td>\n",
       "      <td>0</td>\n",
       "      <td>1</td>\n",
       "      <td>0</td>\n",
       "      <td>0</td>\n",
       "    </tr>\n",
       "    <tr>\n",
       "      <th>...</th>\n",
       "      <td>...</td>\n",
       "      <td>...</td>\n",
       "      <td>...</td>\n",
       "      <td>...</td>\n",
       "      <td>...</td>\n",
       "      <td>...</td>\n",
       "      <td>...</td>\n",
       "      <td>...</td>\n",
       "      <td>...</td>\n",
       "      <td>...</td>\n",
       "    </tr>\n",
       "    <tr>\n",
       "      <th>14994</th>\n",
       "      <td>0</td>\n",
       "      <td>0</td>\n",
       "      <td>0</td>\n",
       "      <td>0</td>\n",
       "      <td>0</td>\n",
       "      <td>0</td>\n",
       "      <td>0</td>\n",
       "      <td>0</td>\n",
       "      <td>1</td>\n",
       "      <td>0</td>\n",
       "    </tr>\n",
       "    <tr>\n",
       "      <th>14995</th>\n",
       "      <td>0</td>\n",
       "      <td>0</td>\n",
       "      <td>0</td>\n",
       "      <td>0</td>\n",
       "      <td>0</td>\n",
       "      <td>0</td>\n",
       "      <td>0</td>\n",
       "      <td>0</td>\n",
       "      <td>1</td>\n",
       "      <td>0</td>\n",
       "    </tr>\n",
       "    <tr>\n",
       "      <th>14996</th>\n",
       "      <td>0</td>\n",
       "      <td>0</td>\n",
       "      <td>0</td>\n",
       "      <td>0</td>\n",
       "      <td>0</td>\n",
       "      <td>0</td>\n",
       "      <td>0</td>\n",
       "      <td>0</td>\n",
       "      <td>1</td>\n",
       "      <td>0</td>\n",
       "    </tr>\n",
       "    <tr>\n",
       "      <th>14997</th>\n",
       "      <td>0</td>\n",
       "      <td>0</td>\n",
       "      <td>0</td>\n",
       "      <td>0</td>\n",
       "      <td>0</td>\n",
       "      <td>0</td>\n",
       "      <td>0</td>\n",
       "      <td>0</td>\n",
       "      <td>1</td>\n",
       "      <td>0</td>\n",
       "    </tr>\n",
       "    <tr>\n",
       "      <th>14998</th>\n",
       "      <td>0</td>\n",
       "      <td>0</td>\n",
       "      <td>0</td>\n",
       "      <td>0</td>\n",
       "      <td>0</td>\n",
       "      <td>0</td>\n",
       "      <td>0</td>\n",
       "      <td>0</td>\n",
       "      <td>1</td>\n",
       "      <td>0</td>\n",
       "    </tr>\n",
       "  </tbody>\n",
       "</table>\n",
       "<p>14999 rows × 10 columns</p>\n",
       "</div>"
      ],
      "text/plain": [
       "       IT  RandD  accounting  hr  management  marketing  product_mng  sales  \\\n",
       "0       0      0           0   0           0          0            0      1   \n",
       "1       0      0           0   0           0          0            0      1   \n",
       "2       0      0           0   0           0          0            0      1   \n",
       "3       0      0           0   0           0          0            0      1   \n",
       "4       0      0           0   0           0          0            0      1   \n",
       "...    ..    ...         ...  ..         ...        ...          ...    ...   \n",
       "14994   0      0           0   0           0          0            0      0   \n",
       "14995   0      0           0   0           0          0            0      0   \n",
       "14996   0      0           0   0           0          0            0      0   \n",
       "14997   0      0           0   0           0          0            0      0   \n",
       "14998   0      0           0   0           0          0            0      0   \n",
       "\n",
       "       support  technical  \n",
       "0            0          0  \n",
       "1            0          0  \n",
       "2            0          0  \n",
       "3            0          0  \n",
       "4            0          0  \n",
       "...        ...        ...  \n",
       "14994        1          0  \n",
       "14995        1          0  \n",
       "14996        1          0  \n",
       "14997        1          0  \n",
       "14998        1          0  \n",
       "\n",
       "[14999 rows x 10 columns]"
      ]
     },
     "execution_count": 29,
     "metadata": {},
     "output_type": "execute_result"
    }
   ],
   "source": [
    "df_depar_ril = pd.get_dummies(df_depar, dtype=int)\n",
    "df_depar_ril"
   ]
  },
  {
   "cell_type": "code",
   "execution_count": 30,
   "id": "b5f5c857",
   "metadata": {},
   "outputs": [
    {
     "data": {
      "application/javascript": [
       "\n",
       "        if (window._pyforest_update_imports_cell) { window._pyforest_update_imports_cell('import seaborn as sns\\nimport numpy as np\\nimport pandas as pd\\nimport matplotlib.pyplot as plt'); }\n",
       "    "
      ],
      "text/plain": [
       "<IPython.core.display.Javascript object>"
      ]
     },
     "metadata": {},
     "output_type": "display_data"
    }
   ],
   "source": [
    "df3_gabung = pd.concat([df3, df_depar_ril], axis=1)"
   ]
  },
  {
   "cell_type": "code",
   "execution_count": 31,
   "id": "399f2d8a",
   "metadata": {},
   "outputs": [
    {
     "data": {
      "text/html": [
       "<div>\n",
       "<style scoped>\n",
       "    .dataframe tbody tr th:only-of-type {\n",
       "        vertical-align: middle;\n",
       "    }\n",
       "\n",
       "    .dataframe tbody tr th {\n",
       "        vertical-align: top;\n",
       "    }\n",
       "\n",
       "    .dataframe thead th {\n",
       "        text-align: right;\n",
       "    }\n",
       "</style>\n",
       "<table border=\"1\" class=\"dataframe\">\n",
       "  <thead>\n",
       "    <tr style=\"text-align: right;\">\n",
       "      <th></th>\n",
       "      <th>tingkat_kepuasan</th>\n",
       "      <th>evaluasi_terakhir</th>\n",
       "      <th>jumlah_proyek</th>\n",
       "      <th>rata-rata_jam_bulan</th>\n",
       "      <th>waktu_spent_for_perusahaan</th>\n",
       "      <th>Kecelakaan_kerja</th>\n",
       "      <th>resign</th>\n",
       "      <th>promosi_5tahun_terakhir</th>\n",
       "      <th>Departemen</th>\n",
       "      <th>gaji</th>\n",
       "      <th>IT</th>\n",
       "      <th>RandD</th>\n",
       "      <th>accounting</th>\n",
       "      <th>hr</th>\n",
       "      <th>management</th>\n",
       "      <th>marketing</th>\n",
       "      <th>product_mng</th>\n",
       "      <th>sales</th>\n",
       "      <th>support</th>\n",
       "      <th>technical</th>\n",
       "    </tr>\n",
       "  </thead>\n",
       "  <tbody>\n",
       "    <tr>\n",
       "      <th>0</th>\n",
       "      <td>0.38</td>\n",
       "      <td>0.53</td>\n",
       "      <td>2</td>\n",
       "      <td>157</td>\n",
       "      <td>3</td>\n",
       "      <td>0</td>\n",
       "      <td>1</td>\n",
       "      <td>0</td>\n",
       "      <td>sales</td>\n",
       "      <td>0</td>\n",
       "      <td>0</td>\n",
       "      <td>0</td>\n",
       "      <td>0</td>\n",
       "      <td>0</td>\n",
       "      <td>0</td>\n",
       "      <td>0</td>\n",
       "      <td>0</td>\n",
       "      <td>1</td>\n",
       "      <td>0</td>\n",
       "      <td>0</td>\n",
       "    </tr>\n",
       "    <tr>\n",
       "      <th>1</th>\n",
       "      <td>0.80</td>\n",
       "      <td>0.86</td>\n",
       "      <td>5</td>\n",
       "      <td>262</td>\n",
       "      <td>6</td>\n",
       "      <td>0</td>\n",
       "      <td>1</td>\n",
       "      <td>0</td>\n",
       "      <td>sales</td>\n",
       "      <td>1</td>\n",
       "      <td>0</td>\n",
       "      <td>0</td>\n",
       "      <td>0</td>\n",
       "      <td>0</td>\n",
       "      <td>0</td>\n",
       "      <td>0</td>\n",
       "      <td>0</td>\n",
       "      <td>1</td>\n",
       "      <td>0</td>\n",
       "      <td>0</td>\n",
       "    </tr>\n",
       "    <tr>\n",
       "      <th>2</th>\n",
       "      <td>0.11</td>\n",
       "      <td>0.88</td>\n",
       "      <td>7</td>\n",
       "      <td>272</td>\n",
       "      <td>4</td>\n",
       "      <td>0</td>\n",
       "      <td>1</td>\n",
       "      <td>0</td>\n",
       "      <td>sales</td>\n",
       "      <td>1</td>\n",
       "      <td>0</td>\n",
       "      <td>0</td>\n",
       "      <td>0</td>\n",
       "      <td>0</td>\n",
       "      <td>0</td>\n",
       "      <td>0</td>\n",
       "      <td>0</td>\n",
       "      <td>1</td>\n",
       "      <td>0</td>\n",
       "      <td>0</td>\n",
       "    </tr>\n",
       "    <tr>\n",
       "      <th>3</th>\n",
       "      <td>0.72</td>\n",
       "      <td>0.87</td>\n",
       "      <td>5</td>\n",
       "      <td>223</td>\n",
       "      <td>5</td>\n",
       "      <td>0</td>\n",
       "      <td>1</td>\n",
       "      <td>0</td>\n",
       "      <td>sales</td>\n",
       "      <td>0</td>\n",
       "      <td>0</td>\n",
       "      <td>0</td>\n",
       "      <td>0</td>\n",
       "      <td>0</td>\n",
       "      <td>0</td>\n",
       "      <td>0</td>\n",
       "      <td>0</td>\n",
       "      <td>1</td>\n",
       "      <td>0</td>\n",
       "      <td>0</td>\n",
       "    </tr>\n",
       "    <tr>\n",
       "      <th>4</th>\n",
       "      <td>0.37</td>\n",
       "      <td>0.52</td>\n",
       "      <td>2</td>\n",
       "      <td>159</td>\n",
       "      <td>3</td>\n",
       "      <td>0</td>\n",
       "      <td>1</td>\n",
       "      <td>0</td>\n",
       "      <td>sales</td>\n",
       "      <td>0</td>\n",
       "      <td>0</td>\n",
       "      <td>0</td>\n",
       "      <td>0</td>\n",
       "      <td>0</td>\n",
       "      <td>0</td>\n",
       "      <td>0</td>\n",
       "      <td>0</td>\n",
       "      <td>1</td>\n",
       "      <td>0</td>\n",
       "      <td>0</td>\n",
       "    </tr>\n",
       "    <tr>\n",
       "      <th>...</th>\n",
       "      <td>...</td>\n",
       "      <td>...</td>\n",
       "      <td>...</td>\n",
       "      <td>...</td>\n",
       "      <td>...</td>\n",
       "      <td>...</td>\n",
       "      <td>...</td>\n",
       "      <td>...</td>\n",
       "      <td>...</td>\n",
       "      <td>...</td>\n",
       "      <td>...</td>\n",
       "      <td>...</td>\n",
       "      <td>...</td>\n",
       "      <td>...</td>\n",
       "      <td>...</td>\n",
       "      <td>...</td>\n",
       "      <td>...</td>\n",
       "      <td>...</td>\n",
       "      <td>...</td>\n",
       "      <td>...</td>\n",
       "    </tr>\n",
       "    <tr>\n",
       "      <th>14994</th>\n",
       "      <td>0.40</td>\n",
       "      <td>0.57</td>\n",
       "      <td>2</td>\n",
       "      <td>151</td>\n",
       "      <td>3</td>\n",
       "      <td>0</td>\n",
       "      <td>1</td>\n",
       "      <td>0</td>\n",
       "      <td>support</td>\n",
       "      <td>0</td>\n",
       "      <td>0</td>\n",
       "      <td>0</td>\n",
       "      <td>0</td>\n",
       "      <td>0</td>\n",
       "      <td>0</td>\n",
       "      <td>0</td>\n",
       "      <td>0</td>\n",
       "      <td>0</td>\n",
       "      <td>1</td>\n",
       "      <td>0</td>\n",
       "    </tr>\n",
       "    <tr>\n",
       "      <th>14995</th>\n",
       "      <td>0.37</td>\n",
       "      <td>0.48</td>\n",
       "      <td>2</td>\n",
       "      <td>160</td>\n",
       "      <td>3</td>\n",
       "      <td>0</td>\n",
       "      <td>1</td>\n",
       "      <td>0</td>\n",
       "      <td>support</td>\n",
       "      <td>0</td>\n",
       "      <td>0</td>\n",
       "      <td>0</td>\n",
       "      <td>0</td>\n",
       "      <td>0</td>\n",
       "      <td>0</td>\n",
       "      <td>0</td>\n",
       "      <td>0</td>\n",
       "      <td>0</td>\n",
       "      <td>1</td>\n",
       "      <td>0</td>\n",
       "    </tr>\n",
       "    <tr>\n",
       "      <th>14996</th>\n",
       "      <td>0.37</td>\n",
       "      <td>0.53</td>\n",
       "      <td>2</td>\n",
       "      <td>143</td>\n",
       "      <td>3</td>\n",
       "      <td>0</td>\n",
       "      <td>1</td>\n",
       "      <td>0</td>\n",
       "      <td>support</td>\n",
       "      <td>0</td>\n",
       "      <td>0</td>\n",
       "      <td>0</td>\n",
       "      <td>0</td>\n",
       "      <td>0</td>\n",
       "      <td>0</td>\n",
       "      <td>0</td>\n",
       "      <td>0</td>\n",
       "      <td>0</td>\n",
       "      <td>1</td>\n",
       "      <td>0</td>\n",
       "    </tr>\n",
       "    <tr>\n",
       "      <th>14997</th>\n",
       "      <td>0.11</td>\n",
       "      <td>0.96</td>\n",
       "      <td>6</td>\n",
       "      <td>280</td>\n",
       "      <td>4</td>\n",
       "      <td>0</td>\n",
       "      <td>1</td>\n",
       "      <td>0</td>\n",
       "      <td>support</td>\n",
       "      <td>0</td>\n",
       "      <td>0</td>\n",
       "      <td>0</td>\n",
       "      <td>0</td>\n",
       "      <td>0</td>\n",
       "      <td>0</td>\n",
       "      <td>0</td>\n",
       "      <td>0</td>\n",
       "      <td>0</td>\n",
       "      <td>1</td>\n",
       "      <td>0</td>\n",
       "    </tr>\n",
       "    <tr>\n",
       "      <th>14998</th>\n",
       "      <td>0.37</td>\n",
       "      <td>0.52</td>\n",
       "      <td>2</td>\n",
       "      <td>158</td>\n",
       "      <td>3</td>\n",
       "      <td>0</td>\n",
       "      <td>1</td>\n",
       "      <td>0</td>\n",
       "      <td>support</td>\n",
       "      <td>0</td>\n",
       "      <td>0</td>\n",
       "      <td>0</td>\n",
       "      <td>0</td>\n",
       "      <td>0</td>\n",
       "      <td>0</td>\n",
       "      <td>0</td>\n",
       "      <td>0</td>\n",
       "      <td>0</td>\n",
       "      <td>1</td>\n",
       "      <td>0</td>\n",
       "    </tr>\n",
       "  </tbody>\n",
       "</table>\n",
       "<p>14999 rows × 20 columns</p>\n",
       "</div>"
      ],
      "text/plain": [
       "       tingkat_kepuasan  evaluasi_terakhir  jumlah_proyek  \\\n",
       "0                  0.38               0.53              2   \n",
       "1                  0.80               0.86              5   \n",
       "2                  0.11               0.88              7   \n",
       "3                  0.72               0.87              5   \n",
       "4                  0.37               0.52              2   \n",
       "...                 ...                ...            ...   \n",
       "14994              0.40               0.57              2   \n",
       "14995              0.37               0.48              2   \n",
       "14996              0.37               0.53              2   \n",
       "14997              0.11               0.96              6   \n",
       "14998              0.37               0.52              2   \n",
       "\n",
       "       rata-rata_jam_bulan  waktu_spent_for_perusahaan  Kecelakaan_kerja  \\\n",
       "0                      157                           3                 0   \n",
       "1                      262                           6                 0   \n",
       "2                      272                           4                 0   \n",
       "3                      223                           5                 0   \n",
       "4                      159                           3                 0   \n",
       "...                    ...                         ...               ...   \n",
       "14994                  151                           3                 0   \n",
       "14995                  160                           3                 0   \n",
       "14996                  143                           3                 0   \n",
       "14997                  280                           4                 0   \n",
       "14998                  158                           3                 0   \n",
       "\n",
       "       resign  promosi_5tahun_terakhir Departemen  gaji  IT  RandD  \\\n",
       "0           1                        0      sales     0   0      0   \n",
       "1           1                        0      sales     1   0      0   \n",
       "2           1                        0      sales     1   0      0   \n",
       "3           1                        0      sales     0   0      0   \n",
       "4           1                        0      sales     0   0      0   \n",
       "...       ...                      ...        ...   ...  ..    ...   \n",
       "14994       1                        0    support     0   0      0   \n",
       "14995       1                        0    support     0   0      0   \n",
       "14996       1                        0    support     0   0      0   \n",
       "14997       1                        0    support     0   0      0   \n",
       "14998       1                        0    support     0   0      0   \n",
       "\n",
       "       accounting  hr  management  marketing  product_mng  sales  support  \\\n",
       "0               0   0           0          0            0      1        0   \n",
       "1               0   0           0          0            0      1        0   \n",
       "2               0   0           0          0            0      1        0   \n",
       "3               0   0           0          0            0      1        0   \n",
       "4               0   0           0          0            0      1        0   \n",
       "...           ...  ..         ...        ...          ...    ...      ...   \n",
       "14994           0   0           0          0            0      0        1   \n",
       "14995           0   0           0          0            0      0        1   \n",
       "14996           0   0           0          0            0      0        1   \n",
       "14997           0   0           0          0            0      0        1   \n",
       "14998           0   0           0          0            0      0        1   \n",
       "\n",
       "       technical  \n",
       "0              0  \n",
       "1              0  \n",
       "2              0  \n",
       "3              0  \n",
       "4              0  \n",
       "...          ...  \n",
       "14994          0  \n",
       "14995          0  \n",
       "14996          0  \n",
       "14997          0  \n",
       "14998          0  \n",
       "\n",
       "[14999 rows x 20 columns]"
      ]
     },
     "execution_count": 31,
     "metadata": {},
     "output_type": "execute_result"
    }
   ],
   "source": [
    "df3_gabung"
   ]
  },
  {
   "cell_type": "code",
   "execution_count": 32,
   "id": "76d22589",
   "metadata": {},
   "outputs": [
    {
     "data": {
      "text/plain": [
       "Index(['tingkat_kepuasan', 'evaluasi_terakhir', 'jumlah_proyek',\n",
       "       'rata-rata_jam_bulan', 'waktu_spent_for_perusahaan', 'Kecelakaan_kerja',\n",
       "       'resign', 'promosi_5tahun_terakhir', 'Departemen', 'gaji', 'IT',\n",
       "       'RandD', 'accounting', 'hr', 'management', 'marketing', 'product_mng',\n",
       "       'sales', 'support', 'technical'],\n",
       "      dtype='object')"
      ]
     },
     "execution_count": 32,
     "metadata": {},
     "output_type": "execute_result"
    }
   ],
   "source": [
    "df3_gabung.columns"
   ]
  },
  {
   "cell_type": "markdown",
   "id": "e78183ec",
   "metadata": {},
   "source": [
    "### Clustering\n",
    "mengelompokkan suatu data menjadi kategori karyawan yang menjelaskan **performa karyawan** seperti apakah dia merupakan karyawan yang kecewa/tidak puas sampai dengan karyawan yang klop/sangat cocok.\n",
    "\n",
    "Clustering Technique:\n",
    "1. DBSCAN/HDBSCAN\n",
    "2. Kmeans"
   ]
  },
  {
   "cell_type": "code",
   "execution_count": 33,
   "id": "97ba573d",
   "metadata": {},
   "outputs": [
    {
     "name": "stdout",
     "output_type": "stream",
     "text": [
      "Categorical columns           : ['Departemen']\n",
      "Categorical columns position  : [8]\n"
     ]
    }
   ],
   "source": [
    "# kategorikal supaya memaksimalkan si kprototype yang mampu clustter terhadap tipe data yang berbeda\n",
    "posisi_cat = [df3_gabung.columns.get_loc(col) for col in list(df3_gabung.select_dtypes('object').columns)]\n",
    "\n",
    "print('Categorical columns           : {}'.format(list(df3_gabung.select_dtypes('object').columns)))\n",
    "print('Categorical columns position  : {}'.format(posisi_cat))"
   ]
  },
  {
   "cell_type": "code",
   "execution_count": 34,
   "id": "2dbd3e68",
   "metadata": {},
   "outputs": [
    {
     "data": {
      "text/plain": [
       "array([[0.38, 0.53, 2, ..., 1, 0, 0],\n",
       "       [0.8, 0.86, 5, ..., 1, 0, 0],\n",
       "       [0.11, 0.88, 7, ..., 1, 0, 0],\n",
       "       ...,\n",
       "       [0.37, 0.53, 2, ..., 0, 1, 0],\n",
       "       [0.11, 0.96, 6, ..., 0, 1, 0],\n",
       "       [0.37, 0.52, 2, ..., 0, 1, 0]], dtype=object)"
      ]
     },
     "execution_count": 34,
     "metadata": {},
     "output_type": "execute_result"
    }
   ],
   "source": [
    "df_cluster = df3_gabung.to_numpy()\n",
    "df_cluster"
   ]
  },
  {
   "cell_type": "markdown",
   "id": "22598cad",
   "metadata": {},
   "source": [
    "- menyiapkan data yang sudah dijadikan array\n",
    "- mencari k atau tetangga cluster terbaik (akan mencari kesamaan dari k data poin terdekat)"
   ]
  },
  {
   "cell_type": "code",
   "execution_count": 35,
   "id": "a7271d96",
   "metadata": {},
   "outputs": [],
   "source": [
    "# cat_fitur = ['Departemen']\n",
    "# cost = []\n",
    "# k_range = range(1, 11)\n",
    "\n",
    "# for K in k_range:\n",
    "#     kproto = KPrototypes(n_clusters=K,\n",
    "#                         init='Huang',\n",
    "#                         random_state=42)\n",
    "    \n",
    "#     kproto.fit_predict(df_cluster,\n",
    "#                       categorical=posisi_cat)\n",
    "#     cost.append(kproto.cost_)\n",
    "    \n",
    "# plt.figure(figsize=(10, 8))\n",
    "# plt.plot(k_range, cost, 'bx-')\n",
    "# plt.xlabel('Jumlah Cluster (K)')\n",
    "# plt.ylabel('Cost')\n",
    "# plt.title('Metode Elbow untuk Menentukan K Optimal')\n",
    "# plt.show()"
   ]
  },
  {
   "cell_type": "markdown",
   "id": "d91c2661",
   "metadata": {},
   "source": [
    "metode elbow itu teknik untuk menentukan jumlah cluster (k) optimal dalam algoritma clustering seperti K-Means atau K-Prototypes. lalu menghitung \"cost\" atau \"inertia\" yang menunjukkan seberapa baik model tersebut mengelompokkan data.\n",
    "\n",
    "Berdasarkan hasil asumsi diatas aku bakal pilih jumlah cluster **5** dikarenakan perbedaan antara jumlah cluster 5 dan 6 itu cukup minimal dari segi costnya dibandingkan dengan ketika cluster 4."
   ]
  },
  {
   "cell_type": "code",
   "execution_count": 36,
   "id": "629bfbb9",
   "metadata": {},
   "outputs": [
    {
     "data": {
      "text/plain": [
       "array([2, 3, 3, ..., 4, 3, 2], dtype=uint16)"
      ]
     },
     "execution_count": 36,
     "metadata": {},
     "output_type": "execute_result"
    }
   ],
   "source": [
    "posisi_cat = [df3_gabung.columns.get_loc(col) for col in list(df3_gabung.select_dtypes('object').columns)]\n",
    "\n",
    "k_prototipe = KPrototypes(n_jobs=1,\n",
    "                          n_clusters=5,\n",
    "                          init='Huang', #fungsi inisialisasi cukup cepat\n",
    "                          random_state=0)\n",
    "\n",
    "k_prototipe.fit_predict(df_cluster, categorical=posisi_cat)"
   ]
  },
  {
   "cell_type": "code",
   "execution_count": 37,
   "id": "c86d4cf4",
   "metadata": {},
   "outputs": [
    {
     "data": {
      "text/plain": [
       "array([['0.6805912990196085', '0.7675827205882343', '4.064644607843137',\n",
       "        '235.16850490196077', '3.645220588235294', '0.14430147058823528',\n",
       "        '0.21017156862745098', '0.023590686274509803',\n",
       "        '0.6035539215686274', '0.0784313725490196',\n",
       "        '0.051470588235294115', '0.045649509803921566',\n",
       "        '0.0545343137254902', '0.044730392156862746',\n",
       "        '0.05759803921568627', '0.06158088235294118', '0.28125',\n",
       "        '0.14154411764705882', '0.18321078431372548', 'sales'],\n",
       "       ['0.6701683132089303', '0.7204061470911095', '3.77863154043176',\n",
       "        '198.20087815587266', '3.3457738748627883',\n",
       "        '0.17819246249542628', '0.022319795096963045',\n",
       "        '0.020856201975850714', '0.6384924990852543',\n",
       "        '0.0845225027442371', '0.05561653860226857',\n",
       "        '0.04427369191364801', '0.045737285034760336',\n",
       "        '0.050128064398097326', '0.059641419685327476',\n",
       "        '0.06000731796560556', '0.27332601536772777',\n",
       "        '0.14233443102817417', '0.18441273326015367', 'sales'],\n",
       "       ['0.6212927518042047', '0.6777125823658627', '3.4254785064323814',\n",
       "        '162.71666143708816', '3.247254471289614', '0.144336366488861',\n",
       "        '0.19422654534044556', '0.021022905553812362',\n",
       "        '0.5952306244116724', '0.0866018198933166',\n",
       "        '0.04989017885158456', '0.05553812362723565',\n",
       "        '0.04675243175400063', '0.04267336052714151',\n",
       "        '0.05522434891747725', '0.06620646375902102',\n",
       "        '0.278318167555695', '0.14684656416692815',\n",
       "        '0.17194854094759962', 'sales'],\n",
       "       ['0.5362127236580617', '0.7829423459244522', '4.556991385023194',\n",
       "        '269.7640821736249', '3.8429423459244534', '0.1288933068257124',\n",
       "        '0.3976143141153082', '0.019218025182239893',\n",
       "        '0.5712392312789927', '0.08482438701126574',\n",
       "        '0.052352551358515576', '0.05765407554671968',\n",
       "        '0.04108681245858184', '0.03711066931742876',\n",
       "        '0.053015241882041084', '0.0559973492379059',\n",
       "        '0.26971504307488403', '0.15672630881378397',\n",
       "        '0.19151756129887343', 'sales'],\n",
       "       ['0.5507758312477741', '0.6234393993564542', '3.138362531283518',\n",
       "        '133.55559528065785', '3.3897032534858775', '0.1294243832677869',\n",
       "        '0.35931355023239187', '0.021451555237754737',\n",
       "        '0.5663210582767251', '0.07436539149088309',\n",
       "        '0.053628888094386845', '0.05219878441186986',\n",
       "        '0.058276725062567036', '0.03539506614229532',\n",
       "        '0.061136932427601', '0.05613156953879156', '0.2767250625670361',\n",
       "        '0.15623882731498034', '0.17590275294958885', 'sales']],\n",
       "      dtype='<U32')"
      ]
     },
     "execution_count": 37,
     "metadata": {},
     "output_type": "execute_result"
    }
   ],
   "source": [
    "k_prototipe.cluster_centroids_"
   ]
  },
  {
   "cell_type": "markdown",
   "id": "7b86616d",
   "metadata": {},
   "source": [
    "centroid itu pusat dari suatu cluster"
   ]
  },
  {
   "cell_type": "code",
   "execution_count": 38,
   "id": "120c2f84",
   "metadata": {},
   "outputs": [
    {
     "data": {
      "text/plain": [
       "5"
      ]
     },
     "execution_count": 38,
     "metadata": {},
     "output_type": "execute_result"
    }
   ],
   "source": [
    "# iterasi\n",
    "k_prototipe.n_iter_"
   ]
  },
  {
   "cell_type": "code",
   "execution_count": 39,
   "id": "d2260d76",
   "metadata": {},
   "outputs": [
    {
     "data": {
      "text/plain": [
       "2004750.9067458985"
      ]
     },
     "execution_count": 39,
     "metadata": {},
     "output_type": "execute_result"
    }
   ],
   "source": [
    "k_prototipe.cost_"
   ]
  },
  {
   "cell_type": "code",
   "execution_count": 40,
   "id": "4641fbac",
   "metadata": {},
   "outputs": [
    {
     "data": {
      "text/html": [
       "<div>\n",
       "<style scoped>\n",
       "    .dataframe tbody tr th:only-of-type {\n",
       "        vertical-align: middle;\n",
       "    }\n",
       "\n",
       "    .dataframe tbody tr th {\n",
       "        vertical-align: top;\n",
       "    }\n",
       "\n",
       "    .dataframe thead th {\n",
       "        text-align: right;\n",
       "    }\n",
       "</style>\n",
       "<table border=\"1\" class=\"dataframe\">\n",
       "  <thead>\n",
       "    <tr style=\"text-align: right;\">\n",
       "      <th></th>\n",
       "      <th>tingkat_kepuasan</th>\n",
       "      <th>evaluasi_terakhir</th>\n",
       "      <th>jumlah_proyek</th>\n",
       "      <th>rata-rata_jam_bulan</th>\n",
       "      <th>waktu_spent_for_perusahaan</th>\n",
       "      <th>Kecelakaan_kerja</th>\n",
       "      <th>resign</th>\n",
       "      <th>promosi_5tahun_terakhir</th>\n",
       "      <th>Departemen</th>\n",
       "      <th>gaji</th>\n",
       "      <th>...</th>\n",
       "      <th>RandD</th>\n",
       "      <th>accounting</th>\n",
       "      <th>hr</th>\n",
       "      <th>management</th>\n",
       "      <th>marketing</th>\n",
       "      <th>product_mng</th>\n",
       "      <th>sales</th>\n",
       "      <th>support</th>\n",
       "      <th>technical</th>\n",
       "      <th>cluster</th>\n",
       "    </tr>\n",
       "  </thead>\n",
       "  <tbody>\n",
       "    <tr>\n",
       "      <th>0</th>\n",
       "      <td>0.38</td>\n",
       "      <td>0.53</td>\n",
       "      <td>2</td>\n",
       "      <td>157</td>\n",
       "      <td>3</td>\n",
       "      <td>0</td>\n",
       "      <td>1</td>\n",
       "      <td>0</td>\n",
       "      <td>sales</td>\n",
       "      <td>0</td>\n",
       "      <td>...</td>\n",
       "      <td>0</td>\n",
       "      <td>0</td>\n",
       "      <td>0</td>\n",
       "      <td>0</td>\n",
       "      <td>0</td>\n",
       "      <td>0</td>\n",
       "      <td>1</td>\n",
       "      <td>0</td>\n",
       "      <td>0</td>\n",
       "      <td>2</td>\n",
       "    </tr>\n",
       "    <tr>\n",
       "      <th>1</th>\n",
       "      <td>0.80</td>\n",
       "      <td>0.86</td>\n",
       "      <td>5</td>\n",
       "      <td>262</td>\n",
       "      <td>6</td>\n",
       "      <td>0</td>\n",
       "      <td>1</td>\n",
       "      <td>0</td>\n",
       "      <td>sales</td>\n",
       "      <td>1</td>\n",
       "      <td>...</td>\n",
       "      <td>0</td>\n",
       "      <td>0</td>\n",
       "      <td>0</td>\n",
       "      <td>0</td>\n",
       "      <td>0</td>\n",
       "      <td>0</td>\n",
       "      <td>1</td>\n",
       "      <td>0</td>\n",
       "      <td>0</td>\n",
       "      <td>3</td>\n",
       "    </tr>\n",
       "    <tr>\n",
       "      <th>2</th>\n",
       "      <td>0.11</td>\n",
       "      <td>0.88</td>\n",
       "      <td>7</td>\n",
       "      <td>272</td>\n",
       "      <td>4</td>\n",
       "      <td>0</td>\n",
       "      <td>1</td>\n",
       "      <td>0</td>\n",
       "      <td>sales</td>\n",
       "      <td>1</td>\n",
       "      <td>...</td>\n",
       "      <td>0</td>\n",
       "      <td>0</td>\n",
       "      <td>0</td>\n",
       "      <td>0</td>\n",
       "      <td>0</td>\n",
       "      <td>0</td>\n",
       "      <td>1</td>\n",
       "      <td>0</td>\n",
       "      <td>0</td>\n",
       "      <td>3</td>\n",
       "    </tr>\n",
       "    <tr>\n",
       "      <th>3</th>\n",
       "      <td>0.72</td>\n",
       "      <td>0.87</td>\n",
       "      <td>5</td>\n",
       "      <td>223</td>\n",
       "      <td>5</td>\n",
       "      <td>0</td>\n",
       "      <td>1</td>\n",
       "      <td>0</td>\n",
       "      <td>sales</td>\n",
       "      <td>0</td>\n",
       "      <td>...</td>\n",
       "      <td>0</td>\n",
       "      <td>0</td>\n",
       "      <td>0</td>\n",
       "      <td>0</td>\n",
       "      <td>0</td>\n",
       "      <td>0</td>\n",
       "      <td>1</td>\n",
       "      <td>0</td>\n",
       "      <td>0</td>\n",
       "      <td>0</td>\n",
       "    </tr>\n",
       "    <tr>\n",
       "      <th>4</th>\n",
       "      <td>0.37</td>\n",
       "      <td>0.52</td>\n",
       "      <td>2</td>\n",
       "      <td>159</td>\n",
       "      <td>3</td>\n",
       "      <td>0</td>\n",
       "      <td>1</td>\n",
       "      <td>0</td>\n",
       "      <td>sales</td>\n",
       "      <td>0</td>\n",
       "      <td>...</td>\n",
       "      <td>0</td>\n",
       "      <td>0</td>\n",
       "      <td>0</td>\n",
       "      <td>0</td>\n",
       "      <td>0</td>\n",
       "      <td>0</td>\n",
       "      <td>1</td>\n",
       "      <td>0</td>\n",
       "      <td>0</td>\n",
       "      <td>2</td>\n",
       "    </tr>\n",
       "  </tbody>\n",
       "</table>\n",
       "<p>5 rows × 21 columns</p>\n",
       "</div>"
      ],
      "text/plain": [
       "   tingkat_kepuasan  evaluasi_terakhir  jumlah_proyek  rata-rata_jam_bulan  \\\n",
       "0              0.38               0.53              2                  157   \n",
       "1              0.80               0.86              5                  262   \n",
       "2              0.11               0.88              7                  272   \n",
       "3              0.72               0.87              5                  223   \n",
       "4              0.37               0.52              2                  159   \n",
       "\n",
       "   waktu_spent_for_perusahaan  Kecelakaan_kerja  resign  \\\n",
       "0                           3                 0       1   \n",
       "1                           6                 0       1   \n",
       "2                           4                 0       1   \n",
       "3                           5                 0       1   \n",
       "4                           3                 0       1   \n",
       "\n",
       "   promosi_5tahun_terakhir Departemen  gaji  ...  RandD  accounting  hr  \\\n",
       "0                        0      sales     0  ...      0           0   0   \n",
       "1                        0      sales     1  ...      0           0   0   \n",
       "2                        0      sales     1  ...      0           0   0   \n",
       "3                        0      sales     0  ...      0           0   0   \n",
       "4                        0      sales     0  ...      0           0   0   \n",
       "\n",
       "   management  marketing  product_mng  sales  support  technical  cluster  \n",
       "0           0          0            0      1        0          0        2  \n",
       "1           0          0            0      1        0          0        3  \n",
       "2           0          0            0      1        0          0        3  \n",
       "3           0          0            0      1        0          0        0  \n",
       "4           0          0            0      1        0          0        2  \n",
       "\n",
       "[5 rows x 21 columns]"
      ]
     },
     "execution_count": 40,
     "metadata": {},
     "output_type": "execute_result"
    }
   ],
   "source": [
    "df3_gabung['cluster'] = k_prototipe.labels_\n",
    "df3_gabung.head(5)"
   ]
  },
  {
   "cell_type": "code",
   "execution_count": 41,
   "id": "51f1f6ad",
   "metadata": {},
   "outputs": [
    {
     "data": {
      "text/plain": [
       "array([2, 3, 0, 4, 1], dtype=uint16)"
      ]
     },
     "execution_count": 41,
     "metadata": {},
     "output_type": "execute_result"
    }
   ],
   "source": [
    "df3_gabung['cluster'].unique()"
   ]
  },
  {
   "cell_type": "code",
   "execution_count": 42,
   "id": "437e07c1",
   "metadata": {},
   "outputs": [],
   "source": [
    "df3_gabung = df3_gabung.drop(columns=['Departemen'])"
   ]
  },
  {
   "cell_type": "code",
   "execution_count": 43,
   "id": "3b495c59",
   "metadata": {},
   "outputs": [
    {
     "data": {
      "text/plain": [
       "Index(['tingkat_kepuasan', 'evaluasi_terakhir', 'jumlah_proyek',\n",
       "       'rata-rata_jam_bulan', 'waktu_spent_for_perusahaan', 'Kecelakaan_kerja',\n",
       "       'resign', 'promosi_5tahun_terakhir', 'gaji', 'IT', 'RandD',\n",
       "       'accounting', 'hr', 'management', 'marketing', 'product_mng', 'sales',\n",
       "       'support', 'technical', 'cluster'],\n",
       "      dtype='object')"
      ]
     },
     "execution_count": 43,
     "metadata": {},
     "output_type": "execute_result"
    }
   ],
   "source": [
    "df3_gabung.columns"
   ]
  },
  {
   "cell_type": "code",
   "execution_count": 44,
   "id": "0f919e73",
   "metadata": {},
   "outputs": [
    {
     "data": {
      "text/plain": [
       "array([ 3,  6,  4,  5,  2,  8, 10,  7], dtype=int64)"
      ]
     },
     "execution_count": 44,
     "metadata": {},
     "output_type": "execute_result"
    }
   ],
   "source": [
    "df3_gabung['waktu_spent_for_perusahaan'].unique()"
   ]
  },
  {
   "cell_type": "markdown",
   "id": "2f9bccc7",
   "metadata": {},
   "source": [
    "### Visualisasi"
   ]
  },
  {
   "cell_type": "code",
   "execution_count": 45,
   "id": "5b27e28f",
   "metadata": {},
   "outputs": [
    {
     "data": {
      "application/javascript": [
       "\n",
       "        if (window._pyforest_update_imports_cell) { window._pyforest_update_imports_cell('import seaborn as sns\\nimport numpy as np\\nimport pandas as pd\\nimport matplotlib.pyplot as plt'); }\n",
       "    "
      ],
      "text/plain": [
       "<IPython.core.display.Javascript object>"
      ]
     },
     "metadata": {},
     "output_type": "display_data"
    },
    {
     "data": {
      "application/javascript": [
       "\n",
       "        if (window._pyforest_update_imports_cell) { window._pyforest_update_imports_cell('import seaborn as sns\\nimport numpy as np\\nimport pandas as pd\\nimport matplotlib.pyplot as plt'); }\n",
       "    "
      ],
      "text/plain": [
       "<IPython.core.display.Javascript object>"
      ]
     },
     "metadata": {},
     "output_type": "display_data"
    },
    {
     "data": {
      "application/javascript": [
       "\n",
       "        if (window._pyforest_update_imports_cell) { window._pyforest_update_imports_cell('import seaborn as sns\\nimport numpy as np\\nimport pandas as pd\\nimport matplotlib.pyplot as plt'); }\n",
       "    "
      ],
      "text/plain": [
       "<IPython.core.display.Javascript object>"
      ]
     },
     "metadata": {},
     "output_type": "display_data"
    },
    {
     "data": {
      "application/javascript": [
       "\n",
       "        if (window._pyforest_update_imports_cell) { window._pyforest_update_imports_cell('import seaborn as sns\\nimport numpy as np\\nimport pandas as pd\\nimport matplotlib.pyplot as plt'); }\n",
       "    "
      ],
      "text/plain": [
       "<IPython.core.display.Javascript object>"
      ]
     },
     "metadata": {},
     "output_type": "display_data"
    },
    {
     "data": {
      "application/javascript": [
       "\n",
       "        if (window._pyforest_update_imports_cell) { window._pyforest_update_imports_cell('import seaborn as sns\\nimport numpy as np\\nimport pandas as pd\\nimport matplotlib.pyplot as plt'); }\n",
       "    "
      ],
      "text/plain": [
       "<IPython.core.display.Javascript object>"
      ]
     },
     "metadata": {},
     "output_type": "display_data"
    },
    {
     "data": {
      "application/javascript": [
       "\n",
       "        if (window._pyforest_update_imports_cell) { window._pyforest_update_imports_cell('import seaborn as sns\\nimport numpy as np\\nimport pandas as pd\\nimport matplotlib.pyplot as plt'); }\n",
       "    "
      ],
      "text/plain": [
       "<IPython.core.display.Javascript object>"
      ]
     },
     "metadata": {},
     "output_type": "display_data"
    },
    {
     "data": {
      "application/javascript": [
       "\n",
       "        if (window._pyforest_update_imports_cell) { window._pyforest_update_imports_cell('import seaborn as sns\\nimport numpy as np\\nimport pandas as pd\\nimport matplotlib.pyplot as plt'); }\n",
       "    "
      ],
      "text/plain": [
       "<IPython.core.display.Javascript object>"
      ]
     },
     "metadata": {},
     "output_type": "display_data"
    },
    {
     "data": {
      "application/javascript": [
       "\n",
       "        if (window._pyforest_update_imports_cell) { window._pyforest_update_imports_cell('import seaborn as sns\\nimport numpy as np\\nimport pandas as pd\\nimport matplotlib.pyplot as plt'); }\n",
       "    "
      ],
      "text/plain": [
       "<IPython.core.display.Javascript object>"
      ]
     },
     "metadata": {},
     "output_type": "display_data"
    },
    {
     "data": {
      "image/png": "[encoded data removed]",
      "text/plain": [
       "<Figure size 1500x900 with 1 Axes>"
      ]
     },
     "metadata": {},
     "output_type": "display_data"
    }
   ],
   "source": [
    "cluster_avg = df3_gabung.groupby('cluster')[['tingkat_kepuasan', 'evaluasi_terakhir']].mean().reset_index()\n",
    "\n",
    "plt.figure(figsize=(15, 9))\n",
    "sns.scatterplot(data=cluster_avg,\n",
    "                x='tingkat_kepuasan',\n",
    "                y='evaluasi_terakhir',\n",
    "                hue='cluster', \n",
    "                s=2500,\n",
    "                legend='brief',\n",
    "                palette='Greens')\n",
    "\n",
    "plt.title('Hubungan antara Rata-rata Tingkat Kepuasan dan Evaluasi Terakhir per Cluster', fontsize=14)\n",
    "plt.xlabel('Rata-rata Tingkat Kepuasan', fontsize=12)\n",
    "plt.ylabel('Rata-rata Evaluasi Terakhir', fontsize=12)\n",
    "plt.grid(True)\n",
    "plt.legend(title='Cluster', fontsize=10)\n",
    "plt.show()"
   ]
  },
  {
   "cell_type": "markdown",
   "id": "515a7617",
   "metadata": {},
   "source": [
    "Berdasarkan evaluasi, setiap cluster memiliki karakteristik yang berbeda. Cluster 4 menunjukkan tingkat kepuasan dan evaluasi terakhir yang rendah, mungkin mengindikasikan masalah atau ketidakpuasan. Cluster 3 memiliki tingkat kepuasan terendah, namun evaluasi terakhir tinggi, menunjukkan karyawan mungkin merasa terpaksa meskipun berkinerja tinggi. Cluster 2 menunjukkan keseimbangan antara kepuasan dan kinerja, sementara Cluster 1 dan 0 menunjukkan kepuasan dan kinerja yang semakin tinggi secara berturut-turut. Dengan pemahaman ini, dapat diambil langkah-langkah yang sesuai untuk meningkatkan kepuasan dan kinerja karyawan di setiap cluster."
   ]
  },
  {
   "cell_type": "code",
   "execution_count": 46,
   "id": "400f0718",
   "metadata": {},
   "outputs": [
    {
     "data": {
      "application/javascript": [
       "\n",
       "        if (window._pyforest_update_imports_cell) { window._pyforest_update_imports_cell('import seaborn as sns\\nimport numpy as np\\nimport pandas as pd\\nimport matplotlib.pyplot as plt'); }\n",
       "    "
      ],
      "text/plain": [
       "<IPython.core.display.Javascript object>"
      ]
     },
     "metadata": {},
     "output_type": "display_data"
    },
    {
     "data": {
      "application/javascript": [
       "\n",
       "        if (window._pyforest_update_imports_cell) { window._pyforest_update_imports_cell('import seaborn as sns\\nimport numpy as np\\nimport pandas as pd\\nimport matplotlib.pyplot as plt'); }\n",
       "    "
      ],
      "text/plain": [
       "<IPython.core.display.Javascript object>"
      ]
     },
     "metadata": {},
     "output_type": "display_data"
    },
    {
     "data": {
      "application/javascript": [
       "\n",
       "        if (window._pyforest_update_imports_cell) { window._pyforest_update_imports_cell('import seaborn as sns\\nimport numpy as np\\nimport pandas as pd\\nimport matplotlib.pyplot as plt'); }\n",
       "    "
      ],
      "text/plain": [
       "<IPython.core.display.Javascript object>"
      ]
     },
     "metadata": {},
     "output_type": "display_data"
    },
    {
     "data": {
      "application/javascript": [
       "\n",
       "        if (window._pyforest_update_imports_cell) { window._pyforest_update_imports_cell('import seaborn as sns\\nimport numpy as np\\nimport pandas as pd\\nimport matplotlib.pyplot as plt'); }\n",
       "    "
      ],
      "text/plain": [
       "<IPython.core.display.Javascript object>"
      ]
     },
     "metadata": {},
     "output_type": "display_data"
    },
    {
     "data": {
      "application/javascript": [
       "\n",
       "        if (window._pyforest_update_imports_cell) { window._pyforest_update_imports_cell('import seaborn as sns\\nimport numpy as np\\nimport pandas as pd\\nimport matplotlib.pyplot as plt'); }\n",
       "    "
      ],
      "text/plain": [
       "<IPython.core.display.Javascript object>"
      ]
     },
     "metadata": {},
     "output_type": "display_data"
    },
    {
     "data": {
      "application/javascript": [
       "\n",
       "        if (window._pyforest_update_imports_cell) { window._pyforest_update_imports_cell('import seaborn as sns\\nimport numpy as np\\nimport pandas as pd\\nimport matplotlib.pyplot as plt'); }\n",
       "    "
      ],
      "text/plain": [
       "<IPython.core.display.Javascript object>"
      ]
     },
     "metadata": {},
     "output_type": "display_data"
    },
    {
     "data": {
      "application/javascript": [
       "\n",
       "        if (window._pyforest_update_imports_cell) { window._pyforest_update_imports_cell('import seaborn as sns\\nimport numpy as np\\nimport pandas as pd\\nimport matplotlib.pyplot as plt'); }\n",
       "    "
      ],
      "text/plain": [
       "<IPython.core.display.Javascript object>"
      ]
     },
     "metadata": {},
     "output_type": "display_data"
    },
    {
     "data": {
      "application/javascript": [
       "\n",
       "        if (window._pyforest_update_imports_cell) { window._pyforest_update_imports_cell('import seaborn as sns\\nimport numpy as np\\nimport pandas as pd\\nimport matplotlib.pyplot as plt'); }\n",
       "    "
      ],
      "text/plain": [
       "<IPython.core.display.Javascript object>"
      ]
     },
     "metadata": {},
     "output_type": "display_data"
    },
    {
     "data": {
      "image/png": "[encoded data removed]",
      "text/plain": [
       "<Figure size 1500x900 with 1 Axes>"
      ]
     },
     "metadata": {},
     "output_type": "display_data"
    }
   ],
   "source": [
    "cluster_avg_proyek = df3_gabung.groupby('cluster')['jumlah_proyek'].mean().reset_index()\n",
    "\n",
    "plt.figure(figsize=(15, 9))\n",
    "sns.scatterplot(data=cluster_avg_proyek,\n",
    "                x='cluster',\n",
    "                y='jumlah_proyek',\n",
    "                hue='cluster',\n",
    "                s=2500,\n",
    "                legend='brief',\n",
    "                palette='Greens')\n",
    "\n",
    "plt.title('Hubungan antara Rata-rata Jumlah Proyek dan Cluster', fontsize=14)\n",
    "plt.xlabel('Cluster', fontsize=12)\n",
    "plt.ylabel('Rata-rata Jumlah Proyek', fontsize=12)\n",
    "plt.grid(True)\n",
    "plt.legend(title='Cluster', fontsize=10)\n",
    "plt.show()\n"
   ]
  },
  {
   "cell_type": "code",
   "execution_count": 47,
   "id": "146faa43",
   "metadata": {},
   "outputs": [
    {
     "data": {
      "application/javascript": [
       "\n",
       "        if (window._pyforest_update_imports_cell) { window._pyforest_update_imports_cell('import seaborn as sns\\nimport numpy as np\\nimport pandas as pd\\nimport matplotlib.pyplot as plt'); }\n",
       "    "
      ],
      "text/plain": [
       "<IPython.core.display.Javascript object>"
      ]
     },
     "metadata": {},
     "output_type": "display_data"
    },
    {
     "data": {
      "application/javascript": [
       "\n",
       "        if (window._pyforest_update_imports_cell) { window._pyforest_update_imports_cell('import seaborn as sns\\nimport numpy as np\\nimport pandas as pd\\nimport matplotlib.pyplot as plt'); }\n",
       "    "
      ],
      "text/plain": [
       "<IPython.core.display.Javascript object>"
      ]
     },
     "metadata": {},
     "output_type": "display_data"
    },
    {
     "data": {
      "application/javascript": [
       "\n",
       "        if (window._pyforest_update_imports_cell) { window._pyforest_update_imports_cell('import seaborn as sns\\nimport numpy as np\\nimport pandas as pd\\nimport matplotlib.pyplot as plt'); }\n",
       "    "
      ],
      "text/plain": [
       "<IPython.core.display.Javascript object>"
      ]
     },
     "metadata": {},
     "output_type": "display_data"
    },
    {
     "data": {
      "application/javascript": [
       "\n",
       "        if (window._pyforest_update_imports_cell) { window._pyforest_update_imports_cell('import seaborn as sns\\nimport numpy as np\\nimport pandas as pd\\nimport matplotlib.pyplot as plt'); }\n",
       "    "
      ],
      "text/plain": [
       "<IPython.core.display.Javascript object>"
      ]
     },
     "metadata": {},
     "output_type": "display_data"
    },
    {
     "data": {
      "application/javascript": [
       "\n",
       "        if (window._pyforest_update_imports_cell) { window._pyforest_update_imports_cell('import seaborn as sns\\nimport numpy as np\\nimport pandas as pd\\nimport matplotlib.pyplot as plt'); }\n",
       "    "
      ],
      "text/plain": [
       "<IPython.core.display.Javascript object>"
      ]
     },
     "metadata": {},
     "output_type": "display_data"
    },
    {
     "data": {
      "application/javascript": [
       "\n",
       "        if (window._pyforest_update_imports_cell) { window._pyforest_update_imports_cell('import seaborn as sns\\nimport numpy as np\\nimport pandas as pd\\nimport matplotlib.pyplot as plt'); }\n",
       "    "
      ],
      "text/plain": [
       "<IPython.core.display.Javascript object>"
      ]
     },
     "metadata": {},
     "output_type": "display_data"
    },
    {
     "data": {
      "application/javascript": [
       "\n",
       "        if (window._pyforest_update_imports_cell) { window._pyforest_update_imports_cell('import seaborn as sns\\nimport numpy as np\\nimport pandas as pd\\nimport matplotlib.pyplot as plt'); }\n",
       "    "
      ],
      "text/plain": [
       "<IPython.core.display.Javascript object>"
      ]
     },
     "metadata": {},
     "output_type": "display_data"
    },
    {
     "data": {
      "application/javascript": [
       "\n",
       "        if (window._pyforest_update_imports_cell) { window._pyforest_update_imports_cell('import seaborn as sns\\nimport numpy as np\\nimport pandas as pd\\nimport matplotlib.pyplot as plt'); }\n",
       "    "
      ],
      "text/plain": [
       "<IPython.core.display.Javascript object>"
      ]
     },
     "metadata": {},
     "output_type": "display_data"
    },
    {
     "data": {
      "image/png": "[encoded data removed]",
      "text/plain": [
       "<Figure size 1500x900 with 1 Axes>"
      ]
     },
     "metadata": {},
     "output_type": "display_data"
    }
   ],
   "source": [
    "cluster_avg_jam_bulan = df3_gabung.groupby('cluster')['rata-rata_jam_bulan'].mean().reset_index()\n",
    "\n",
    "plt.figure(figsize=(15, 9))\n",
    "sns.scatterplot(data=cluster_avg_jam_bulan,\n",
    "                x='cluster',\n",
    "                y='rata-rata_jam_bulan',\n",
    "                hue='cluster',\n",
    "                s=2500,\n",
    "                legend='brief',\n",
    "                palette='Greens')\n",
    "\n",
    "plt.title('Hubungan antara Rata-rata Jam Bulan dan Cluster', fontsize=14)\n",
    "plt.xlabel('Cluster', fontsize=12)\n",
    "plt.ylabel('Rata-rata Jam Bulan', fontsize=12)\n",
    "plt.grid(True)\n",
    "plt.legend(title='Cluster', fontsize=10)\n",
    "plt.show()"
   ]
  },
  {
   "cell_type": "code",
   "execution_count": 48,
   "id": "9864d342",
   "metadata": {},
   "outputs": [
    {
     "data": {
      "application/javascript": [
       "\n",
       "        if (window._pyforest_update_imports_cell) { window._pyforest_update_imports_cell('import seaborn as sns\\nimport numpy as np\\nimport pandas as pd\\nimport matplotlib.pyplot as plt'); }\n",
       "    "
      ],
      "text/plain": [
       "<IPython.core.display.Javascript object>"
      ]
     },
     "metadata": {},
     "output_type": "display_data"
    },
    {
     "data": {
      "application/javascript": [
       "\n",
       "        if (window._pyforest_update_imports_cell) { window._pyforest_update_imports_cell('import seaborn as sns\\nimport numpy as np\\nimport pandas as pd\\nimport matplotlib.pyplot as plt'); }\n",
       "    "
      ],
      "text/plain": [
       "<IPython.core.display.Javascript object>"
      ]
     },
     "metadata": {},
     "output_type": "display_data"
    },
    {
     "data": {
      "application/javascript": [
       "\n",
       "        if (window._pyforest_update_imports_cell) { window._pyforest_update_imports_cell('import seaborn as sns\\nimport numpy as np\\nimport pandas as pd\\nimport matplotlib.pyplot as plt'); }\n",
       "    "
      ],
      "text/plain": [
       "<IPython.core.display.Javascript object>"
      ]
     },
     "metadata": {},
     "output_type": "display_data"
    },
    {
     "data": {
      "application/javascript": [
       "\n",
       "        if (window._pyforest_update_imports_cell) { window._pyforest_update_imports_cell('import seaborn as sns\\nimport numpy as np\\nimport pandas as pd\\nimport matplotlib.pyplot as plt'); }\n",
       "    "
      ],
      "text/plain": [
       "<IPython.core.display.Javascript object>"
      ]
     },
     "metadata": {},
     "output_type": "display_data"
    },
    {
     "data": {
      "application/javascript": [
       "\n",
       "        if (window._pyforest_update_imports_cell) { window._pyforest_update_imports_cell('import seaborn as sns\\nimport numpy as np\\nimport pandas as pd\\nimport matplotlib.pyplot as plt'); }\n",
       "    "
      ],
      "text/plain": [
       "<IPython.core.display.Javascript object>"
      ]
     },
     "metadata": {},
     "output_type": "display_data"
    },
    {
     "data": {
      "application/javascript": [
       "\n",
       "        if (window._pyforest_update_imports_cell) { window._pyforest_update_imports_cell('import seaborn as sns\\nimport numpy as np\\nimport pandas as pd\\nimport matplotlib.pyplot as plt'); }\n",
       "    "
      ],
      "text/plain": [
       "<IPython.core.display.Javascript object>"
      ]
     },
     "metadata": {},
     "output_type": "display_data"
    },
    {
     "data": {
      "application/javascript": [
       "\n",
       "        if (window._pyforest_update_imports_cell) { window._pyforest_update_imports_cell('import seaborn as sns\\nimport numpy as np\\nimport pandas as pd\\nimport matplotlib.pyplot as plt'); }\n",
       "    "
      ],
      "text/plain": [
       "<IPython.core.display.Javascript object>"
      ]
     },
     "metadata": {},
     "output_type": "display_data"
    },
    {
     "data": {
      "application/javascript": [
       "\n",
       "        if (window._pyforest_update_imports_cell) { window._pyforest_update_imports_cell('import seaborn as sns\\nimport numpy as np\\nimport pandas as pd\\nimport matplotlib.pyplot as plt'); }\n",
       "    "
      ],
      "text/plain": [
       "<IPython.core.display.Javascript object>"
      ]
     },
     "metadata": {},
     "output_type": "display_data"
    },
    {
     "data": {
      "image/png": "[encoded data removed]",
      "text/plain": [
       "<Figure size 1500x900 with 1 Axes>"
      ]
     },
     "metadata": {},
     "output_type": "display_data"
    }
   ],
   "source": [
    "cluster_avg_jam_proyek = df3_gabung.groupby('cluster')[['rata-rata_jam_bulan', 'jumlah_proyek']].mean().reset_index()\n",
    "\n",
    "plt.figure(figsize=(15, 9))\n",
    "sns.scatterplot(data=cluster_avg_jam_proyek,\n",
    "                x='rata-rata_jam_bulan',\n",
    "                y='jumlah_proyek',\n",
    "                hue='cluster',\n",
    "                s=2500,  # rentang ukuran bubble\n",
    "                legend='brief',\n",
    "                palette='Greens')\n",
    "\n",
    "plt.title('Hubungan antara Rata-rata Jam Bulan dan Jumlah Proyek per Cluster', fontsize=14)\n",
    "plt.xlabel('Rata-rata Jam Bulan', fontsize=12)\n",
    "plt.ylabel('Jumlah Proyek', fontsize=12)\n",
    "plt.grid(True)\n",
    "plt.legend(title='Cluster', fontsize=10)\n",
    "plt.show()"
   ]
  },
  {
   "cell_type": "markdown",
   "id": "40e60dcf",
   "metadata": {},
   "source": [
    "1. Cluster 4 (**Underperform**) = Karyawan dalam cluster ini cenderung tidak puas dan berkinerja rendah.\n",
    "2. Cluster 3 (**Overachievers**) = Meskipun tingkat kepuasan rendah, karyawan dalam cluster ini tetap berkinerja tinggi dan mungkin merasa terpaksa.\n",
    "3. Cluster 2 (**Balanced Performers**) = Karyawan dalam cluster ini menunjukkan keseimbangan antara kepuasan dan kinerja yang baik.\n",
    "4. Cluster 1 (**Satisfactory Performers**) =  Karyawan dalam cluster ini memiliki tingkat kepuasan dan kinerja yang memadai.\n",
    "5. Cluster 0 (**High Performers**) = Karyawan dalam cluster ini sangat puas dan berkinerja sangat baik. Hal ini mungkin dia memang baru mendapatkan pekerjaannya"
   ]
  },
  {
   "cell_type": "markdown",
   "id": "f61aca78",
   "metadata": {},
   "source": [
    "### Analisis Bivariate"
   ]
  },
  {
   "cell_type": "code",
   "execution_count": 54,
   "id": "cb413838",
   "metadata": {},
   "outputs": [
    {
     "data": {
      "application/javascript": [
       "\n",
       "        if (window._pyforest_update_imports_cell) { window._pyforest_update_imports_cell('import seaborn as sns\\nimport numpy as np\\nimport pandas as pd\\nimport matplotlib.pyplot as plt'); }\n",
       "    "
      ],
      "text/plain": [
       "<IPython.core.display.Javascript object>"
      ]
     },
     "metadata": {},
     "output_type": "display_data"
    },
    {
     "data": {
      "application/javascript": [
       "\n",
       "        if (window._pyforest_update_imports_cell) { window._pyforest_update_imports_cell('import seaborn as sns\\nimport numpy as np\\nimport pandas as pd\\nimport matplotlib.pyplot as plt'); }\n",
       "    "
      ],
      "text/plain": [
       "<IPython.core.display.Javascript object>"
      ]
     },
     "metadata": {},
     "output_type": "display_data"
    },
    {
     "data": {
      "application/javascript": [
       "\n",
       "        if (window._pyforest_update_imports_cell) { window._pyforest_update_imports_cell('import seaborn as sns\\nimport numpy as np\\nimport pandas as pd\\nimport matplotlib.pyplot as plt'); }\n",
       "    "
      ],
      "text/plain": [
       "<IPython.core.display.Javascript object>"
      ]
     },
     "metadata": {},
     "output_type": "display_data"
    },
    {
     "data": {
      "application/javascript": [
       "\n",
       "        if (window._pyforest_update_imports_cell) { window._pyforest_update_imports_cell('import seaborn as sns\\nimport numpy as np\\nimport pandas as pd\\nimport matplotlib.pyplot as plt'); }\n",
       "    "
      ],
      "text/plain": [
       "<IPython.core.display.Javascript object>"
      ]
     },
     "metadata": {},
     "output_type": "display_data"
    },
    {
     "data": {
      "application/javascript": [
       "\n",
       "        if (window._pyforest_update_imports_cell) { window._pyforest_update_imports_cell('import seaborn as sns\\nimport numpy as np\\nimport pandas as pd\\nimport matplotlib.pyplot as plt'); }\n",
       "    "
      ],
      "text/plain": [
       "<IPython.core.display.Javascript object>"
      ]
     },
     "metadata": {},
     "output_type": "display_data"
    },
    {
     "data": {
      "application/javascript": [
       "\n",
       "        if (window._pyforest_update_imports_cell) { window._pyforest_update_imports_cell('import seaborn as sns\\nimport numpy as np\\nimport pandas as pd\\nimport matplotlib.pyplot as plt'); }\n",
       "    "
      ],
      "text/plain": [
       "<IPython.core.display.Javascript object>"
      ]
     },
     "metadata": {},
     "output_type": "display_data"
    },
    {
     "data": {
      "application/javascript": [
       "\n",
       "        if (window._pyforest_update_imports_cell) { window._pyforest_update_imports_cell('import seaborn as sns\\nimport numpy as np\\nimport pandas as pd\\nimport matplotlib.pyplot as plt'); }\n",
       "    "
      ],
      "text/plain": [
       "<IPython.core.display.Javascript object>"
      ]
     },
     "metadata": {},
     "output_type": "display_data"
    },
    {
     "data": {
      "application/javascript": [
       "\n",
       "        if (window._pyforest_update_imports_cell) { window._pyforest_update_imports_cell('import seaborn as sns\\nimport numpy as np\\nimport pandas as pd\\nimport matplotlib.pyplot as plt'); }\n",
       "    "
      ],
      "text/plain": [
       "<IPython.core.display.Javascript object>"
      ]
     },
     "metadata": {},
     "output_type": "display_data"
    },
    {
     "data": {
      "application/javascript": [
       "\n",
       "        if (window._pyforest_update_imports_cell) { window._pyforest_update_imports_cell('import seaborn as sns\\nimport numpy as np\\nimport pandas as pd\\nimport matplotlib.pyplot as plt'); }\n",
       "    "
      ],
      "text/plain": [
       "<IPython.core.display.Javascript object>"
      ]
     },
     "metadata": {},
     "output_type": "display_data"
    },
    {
     "data": {
      "application/javascript": [
       "\n",
       "        if (window._pyforest_update_imports_cell) { window._pyforest_update_imports_cell('import seaborn as sns\\nimport numpy as np\\nimport pandas as pd\\nimport matplotlib.pyplot as plt'); }\n",
       "    "
      ],
      "text/plain": [
       "<IPython.core.display.Javascript object>"
      ]
     },
     "metadata": {},
     "output_type": "display_data"
    },
    {
     "data": {
      "image/png": "[encoded data removed]",
      "text/plain": [
       "<Figure size 1500x900 with 1 Axes>"
      ]
     },
     "metadata": {},
     "output_type": "display_data"
    }
   ],
   "source": [
    "plt.figure(figsize=(15, 9))\n",
    "sns.barplot(data=cluster_avg_waktu_resign,\n",
    "            x='cluster',\n",
    "            y='waktu_spent_for_perusahaan',\n",
    "            color='lightgreen',\n",
    "            alpha=0.7,\n",
    "            label='Waktu di Perusahaan')\n",
    "\n",
    "sns.barplot(data=cluster_avg_waktu_resign,\n",
    "            x='cluster',\n",
    "            y='resign',\n",
    "            color='darkgreen',\n",
    "            alpha=0.7,\n",
    "            label='Resign')\n",
    "\n",
    "plt.title('Rata-rata Waktu di Perusahaan (tahun) dan Tingkat Resign per Cluster', fontsize=14)\n",
    "plt.xlabel('Cluster', fontsize=12)\n",
    "plt.ylabel('Rata-rata Waktu / Tingkat Resign', fontsize=12)\n",
    "plt.grid(axis='y')\n",
    "plt.legend(title='Indikator', fontsize=10)\n",
    "plt.xticks(rotation=45)\n",
    "plt.show()\n"
   ]
  },
  {
   "cell_type": "code",
   "execution_count": 55,
   "id": "d71f3ff6",
   "metadata": {},
   "outputs": [
    {
     "data": {
      "application/javascript": [
       "\n",
       "        if (window._pyforest_update_imports_cell) { window._pyforest_update_imports_cell('import seaborn as sns\\nimport numpy as np\\nimport pandas as pd\\nimport matplotlib.pyplot as plt'); }\n",
       "    "
      ],
      "text/plain": [
       "<IPython.core.display.Javascript object>"
      ]
     },
     "metadata": {},
     "output_type": "display_data"
    },
    {
     "data": {
      "application/javascript": [
       "\n",
       "        if (window._pyforest_update_imports_cell) { window._pyforest_update_imports_cell('import seaborn as sns\\nimport numpy as np\\nimport pandas as pd\\nimport matplotlib.pyplot as plt'); }\n",
       "    "
      ],
      "text/plain": [
       "<IPython.core.display.Javascript object>"
      ]
     },
     "metadata": {},
     "output_type": "display_data"
    },
    {
     "data": {
      "application/javascript": [
       "\n",
       "        if (window._pyforest_update_imports_cell) { window._pyforest_update_imports_cell('import seaborn as sns\\nimport numpy as np\\nimport pandas as pd\\nimport matplotlib.pyplot as plt'); }\n",
       "    "
      ],
      "text/plain": [
       "<IPython.core.display.Javascript object>"
      ]
     },
     "metadata": {},
     "output_type": "display_data"
    },
    {
     "data": {
      "application/javascript": [
       "\n",
       "        if (window._pyforest_update_imports_cell) { window._pyforest_update_imports_cell('import seaborn as sns\\nimport numpy as np\\nimport pandas as pd\\nimport matplotlib.pyplot as plt'); }\n",
       "    "
      ],
      "text/plain": [
       "<IPython.core.display.Javascript object>"
      ]
     },
     "metadata": {},
     "output_type": "display_data"
    },
    {
     "data": {
      "application/javascript": [
       "\n",
       "        if (window._pyforest_update_imports_cell) { window._pyforest_update_imports_cell('import seaborn as sns\\nimport numpy as np\\nimport pandas as pd\\nimport matplotlib.pyplot as plt'); }\n",
       "    "
      ],
      "text/plain": [
       "<IPython.core.display.Javascript object>"
      ]
     },
     "metadata": {},
     "output_type": "display_data"
    },
    {
     "data": {
      "application/javascript": [
       "\n",
       "        if (window._pyforest_update_imports_cell) { window._pyforest_update_imports_cell('import seaborn as sns\\nimport numpy as np\\nimport pandas as pd\\nimport matplotlib.pyplot as plt'); }\n",
       "    "
      ],
      "text/plain": [
       "<IPython.core.display.Javascript object>"
      ]
     },
     "metadata": {},
     "output_type": "display_data"
    },
    {
     "data": {
      "image/png": "[encoded data removed]",
      "text/plain": [
       "<Figure size 800x600 with 1 Axes>"
      ]
     },
     "metadata": {},
     "output_type": "display_data"
    }
   ],
   "source": [
    "plt.figure(figsize=(8, 6))\n",
    "sns.boxplot(x='resign', y='tingkat_kepuasan', data=df3_gabung, palette=['lightgreen', 'darkgreen'])\n",
    "plt.title('Hubungan antara Tingkat Kepuasan dan Resignation')\n",
    "plt.xlabel('Resignation')\n",
    "plt.ylabel('Tingkat Kepuasan')\n",
    "plt.show()"
   ]
  },
  {
   "cell_type": "code",
   "execution_count": 56,
   "id": "015ce656",
   "metadata": {},
   "outputs": [
    {
     "data": {
      "application/javascript": [
       "\n",
       "        if (window._pyforest_update_imports_cell) { window._pyforest_update_imports_cell('import seaborn as sns\\nimport numpy as np\\nimport pandas as pd\\nimport matplotlib.pyplot as plt'); }\n",
       "    "
      ],
      "text/plain": [
       "<IPython.core.display.Javascript object>"
      ]
     },
     "metadata": {},
     "output_type": "display_data"
    },
    {
     "data": {
      "application/javascript": [
       "\n",
       "        if (window._pyforest_update_imports_cell) { window._pyforest_update_imports_cell('import seaborn as sns\\nimport numpy as np\\nimport pandas as pd\\nimport matplotlib.pyplot as plt'); }\n",
       "    "
      ],
      "text/plain": [
       "<IPython.core.display.Javascript object>"
      ]
     },
     "metadata": {},
     "output_type": "display_data"
    },
    {
     "data": {
      "application/javascript": [
       "\n",
       "        if (window._pyforest_update_imports_cell) { window._pyforest_update_imports_cell('import seaborn as sns\\nimport numpy as np\\nimport pandas as pd\\nimport matplotlib.pyplot as plt'); }\n",
       "    "
      ],
      "text/plain": [
       "<IPython.core.display.Javascript object>"
      ]
     },
     "metadata": {},
     "output_type": "display_data"
    },
    {
     "data": {
      "application/javascript": [
       "\n",
       "        if (window._pyforest_update_imports_cell) { window._pyforest_update_imports_cell('import seaborn as sns\\nimport numpy as np\\nimport pandas as pd\\nimport matplotlib.pyplot as plt'); }\n",
       "    "
      ],
      "text/plain": [
       "<IPython.core.display.Javascript object>"
      ]
     },
     "metadata": {},
     "output_type": "display_data"
    },
    {
     "data": {
      "application/javascript": [
       "\n",
       "        if (window._pyforest_update_imports_cell) { window._pyforest_update_imports_cell('import seaborn as sns\\nimport numpy as np\\nimport pandas as pd\\nimport matplotlib.pyplot as plt'); }\n",
       "    "
      ],
      "text/plain": [
       "<IPython.core.display.Javascript object>"
      ]
     },
     "metadata": {},
     "output_type": "display_data"
    },
    {
     "data": {
      "application/javascript": [
       "\n",
       "        if (window._pyforest_update_imports_cell) { window._pyforest_update_imports_cell('import seaborn as sns\\nimport numpy as np\\nimport pandas as pd\\nimport matplotlib.pyplot as plt'); }\n",
       "    "
      ],
      "text/plain": [
       "<IPython.core.display.Javascript object>"
      ]
     },
     "metadata": {},
     "output_type": "display_data"
    },
    {
     "data": {
      "application/javascript": [
       "\n",
       "        if (window._pyforest_update_imports_cell) { window._pyforest_update_imports_cell('import seaborn as sns\\nimport numpy as np\\nimport pandas as pd\\nimport matplotlib.pyplot as plt'); }\n",
       "    "
      ],
      "text/plain": [
       "<IPython.core.display.Javascript object>"
      ]
     },
     "metadata": {},
     "output_type": "display_data"
    },
    {
     "data": {
      "image/png": "[encoded data removed]",
      "text/plain": [
       "<Figure size 800x600 with 1 Axes>"
      ]
     },
     "metadata": {},
     "output_type": "display_data"
    }
   ],
   "source": [
    "plt.figure(figsize=(8, 6))\n",
    "sns.countplot(x='gaji', hue='resign', data=df3_gabung, palette=['lightgreen', 'darkgreen'])\n",
    "plt.title('Hubungan antara Gaji dan Resign')\n",
    "plt.xlabel('Gaji')\n",
    "plt.ylabel('Jumlah Karyawan')\n",
    "plt.legend(title='Resign', loc='upper right')\n",
    "plt.show()"
   ]
  },
  {
   "cell_type": "markdown",
   "id": "3df75359",
   "metadata": {},
   "source": [
    "Semakin tinggi kemungkinan untuk karyawan resign ketika gajinya cukup rendah, begitupun ketika gajinya sedang. "
   ]
  },
  {
   "cell_type": "code",
   "execution_count": 61,
   "id": "73f73982",
   "metadata": {},
   "outputs": [],
   "source": [
    "df3_gabung.write.csv(\"/user/ASUS/hadoop_clustering_employee_turnover/cluster.csv\", header=True)"
   ]
  }
 ],
 "metadata": {
  "kernelspec": {
   "display_name": "Python 3 (ipykernel)",
   "language": "python",
   "name": "python3"
  },
  "language_info": {
   "codemirror_mode": {
    "name": "ipython",
    "version": 3
   },
   "file_extension": ".py",
   "mimetype": "text/x-python",
   "name": "python",
   "nbconvert_exporter": "python",
   "pygments_lexer": "ipython3",
   "version": "3.11.5"
  }
 },
 "nbformat": 4,
 "nbformat_minor": 5
}
